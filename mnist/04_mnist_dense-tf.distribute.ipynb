{
 "cells": [
  {
   "cell_type": "code",
   "execution_count": 1,
   "metadata": {},
   "outputs": [],
   "source": [
    "import ipcmagic"
   ]
  },
  {
   "cell_type": "code",
   "execution_count": 35,
   "metadata": {},
   "outputs": [
    {
     "name": "stdout",
     "output_type": "stream",
     "text": [
      "IPCluster is ready! (6 seconds)\n"
     ]
    }
   ],
   "source": [
    "%ipcluster start -n 2 --mpi"
   ]
  },
  {
   "cell_type": "code",
   "execution_count": 36,
   "metadata": {},
   "outputs": [],
   "source": [
    "%%px\n",
    "import os\n",
    "import math\n",
    "import tensorflow as tf\n",
    "from datetime import datetime\n",
    "from tensorflow import keras"
   ]
  },
  {
   "cell_type": "code",
   "execution_count": 56,
   "metadata": {},
   "outputs": [],
   "source": [
    "%%px\n",
    "strategy = tf.distribute.experimental.MultiWorkerMirroredStrategy(\n",
    "    cluster_resolver=tf.distribute.cluster_resolver.SlurmClusterResolver(),\n",
    "    communication=tf.distribute.experimental.CollectiveCommunication.NCCL,\n",
    ")\n",
    "\n",
    "def decode(serialized_example):\n",
    "    \"\"\"Parses an image and label from the given `serialized_example`.\"\"\"\n",
    "    features = tf.io.parse_single_example(\n",
    "        serialized_example,\n",
    "        features={\n",
    "            'image_raw': tf.io.FixedLenFeature([], tf.string),\n",
    "            'label': tf.io.FixedLenFeature([], tf.int64),\n",
    "        })\n",
    "    label = tf.cast(features['label'], tf.int32)\n",
    "    image = tf.io.decode_raw(features['image_raw'], tf.uint8)\n",
    "    image = tf.reshape(image, (28, 28, 1))\n",
    "    return image, label\n",
    "\n",
    "\n",
    "def normalize(image, label):\n",
    "    \"\"\"Convert `image` from [0, 255] -> [-0.5, 0.5] floats.\"\"\"\n",
    "    image = tf.cast(image, tf.float32) * (1. / 255) - 0.5\n",
    "    return image, label\n",
    "\n",
    "\n",
    "def get_train_set(filename, batch_size):\n",
    "    options = tf.data.Options()\n",
    "    options.experimental_distribute.auto_shard_policy = tf.data.experimental.AutoShardPolicy.DATA\n",
    "\n",
    "    dataset = tf.data.TFRecordDataset(filename)\n",
    "    dataset = dataset.map(decode)\n",
    "    # dataset = dataset.shuffle(128)\n",
    "    dataset = dataset.batch(batch_size, drop_remainder=True)\n",
    "    dataset = dataset.map(normalize)\n",
    "    dataset = dataset.with_options(options)\n",
    "    return dataset\n",
    "\n",
    "def get_val_set(filename, batch_size):\n",
    "    options = tf.data.Options()\n",
    "    options.experimental_distribute.auto_shard_policy = tf.data.experimental.AutoShardPolicy.DATA\n",
    "\n",
    "    dataset = tf.data.TFRecordDataset(filename)\n",
    "    dataset = dataset.map(decode)\n",
    "    dataset = dataset.batch(batch_size, drop_remainder=True)\n",
    "    dataset = dataset.map(normalize)\n",
    "    dataset = dataset.with_options(options)\n",
    "    return dataset\n",
    "\n",
    "with strategy.scope():\n",
    "    model = keras.Sequential([keras.layers.Conv2D(32, kernel_size=(3, 3),\n",
    "                                                 activation='relu',\n",
    "                                                 input_shape=(28, 28, 1)),\n",
    "                              keras.layers.Conv2D(64, (3, 3), activation='relu'),\n",
    "                              keras.layers.MaxPooling2D(pool_size=(2, 2)),\n",
    "                              keras.layers.Dropout(0.25),\n",
    "                              keras.layers.Flatten(),\n",
    "                              keras.layers.Dense(128, activation='relu'),\n",
    "                              keras.layers.Dropout(0.5),\n",
    "                              keras.layers.Dense(10, activation='softmax')])\n",
    "\n",
    "    opt = keras.optimizers.Adam(0.001)\n",
    "\n",
    "    model.compile(optimizer=opt,\n",
    "                  loss='sparse_categorical_crossentropy',\n",
    "                  metrics=['accuracy'])\n",
    "\n",
    "tb_callback = tf.keras.callbacks.TensorBoard(\n",
    "    log_dir = os.path.join('cnn_tfdistr_logs',\n",
    "                           datetime.now().strftime(\"%d-%H%M\")),\n",
    "    histogram_freq = 1,\n",
    "    profile_batch = '700,730')"
   ]
  },
  {
   "cell_type": "code",
   "execution_count": 57,
   "metadata": {},
   "outputs": [
    {
     "name": "stdout",
     "output_type": "stream",
     "text": [
      "[stdout:0] \n",
      "Epoch 1/2\n",
      "937/938 - 5s - loss: 0.2378 - accuracy: 0.9283\n",
      "[stdout:1] \n",
      "Epoch 1/2\n",
      "937/938 - 5s - loss: 0.2378 - accuracy: 0.9283\n"
     ]
    }
   ],
   "source": [
    "%%px\n",
    "BATCH_SIZE = 64\n",
    "NUM_EPOCS = 2\n",
    "\n",
    "fit = model.fit(get_train_set('../input_pipelines/tfrecords/train.tfrecords', BATCH_SIZE),\n",
    "                # validation_data=get_val_set('../input_pipelines/tfrecords/test.tfrecords', BATCH_SIZE),\n",
    "                epochs=NUM_EPOCS,\n",
    "                verbose=2,\n",
    "                steps_per_epoch=math.ceil(60000 / BATCH_SIZE),\n",
    "                # validation_steps=math.ceil(10000 / BATCH_SIZE),\n",
    "                callbacks=[tb_callback])"
   ]
  },
  {
   "cell_type": "markdown",
   "metadata": {},
   "source": [
    "`tf.distributed` adds automatically `dataset = strategy.experimental_distribute_dataset(dataset)` to the dataset."
   ]
  },
  {
   "cell_type": "markdown",
   "metadata": {},
   "source": [
    "(!) Note that the validation losses and accuracies must be the same for both ranks."
   ]
  },
  {
   "cell_type": "code",
   "execution_count": 14,
   "metadata": {},
   "outputs": [],
   "source": [
    "%load_ext tensorboard"
   ]
  },
  {
   "cell_type": "code",
   "execution_count": 58,
   "metadata": {},
   "outputs": [
    {
     "data": {
      "text/html": [
       "\n",
       "      <iframe id=\"tensorboard-frame-e04fd9e6c775ed6c\" width=\"100%\" height=\"800\" frameborder=\"0\">\n",
       "      </iframe>\n",
       "      <script>\n",
       "        (function() {\n",
       "          const frame = document.getElementById(\"tensorboard-frame-e04fd9e6c775ed6c\");\n",
       "          const url = new URL(\"https://sarafael.jupyter.cscs.ch/hub/user-redirect/proxy/6006/\", window.location);\n",
       "          const port = 0;\n",
       "          if (port) {\n",
       "            url.port = port;\n",
       "          }\n",
       "          frame.src = url;\n",
       "        })();\n",
       "      </script>\n",
       "    "
      ],
      "text/plain": [
       "<IPython.core.display.HTML object>"
      ]
     },
     "metadata": {},
     "output_type": "display_data"
    }
   ],
   "source": [
    "%tensorboard --logdir=cnn_tfdistr_logs"
   ]
  },
  {
   "cell_type": "code",
   "execution_count": 59,
   "metadata": {},
   "outputs": [],
   "source": [
    "%ipcluster stop"
   ]
  }
 ],
 "metadata": {
  "kernelspec": {
   "display_name": "tf-multigpu",
   "language": "python",
   "name": "tf-multigpu"
  },
  "language_info": {
   "codemirror_mode": {
    "name": "ipython",
    "version": 3
   },
   "file_extension": ".py",
   "mimetype": "text/x-python",
   "name": "python",
   "nbconvert_exporter": "python",
   "pygments_lexer": "ipython3",
   "version": "3.7.4"
  }
 },
 "nbformat": 4,
 "nbformat_minor": 4
}
