{
 "cells": [
  {
   "cell_type": "code",
   "execution_count": 1,
   "metadata": {},
   "outputs": [],
   "source": [
    "import ipcmagic\n",
    "from tb_cscs import tensorboard"
   ]
  },
  {
   "cell_type": "code",
   "execution_count": 29,
   "metadata": {},
   "outputs": [
    {
     "name": "stdout",
     "output_type": "stream",
     "text": [
      "IPCluster is ready! (6 seconds)\n"
     ]
    }
   ],
   "source": [
    "%ipcluster start -n 2 --mpi"
   ]
  },
  {
   "cell_type": "code",
   "execution_count": 30,
   "metadata": {},
   "outputs": [],
   "source": [
    "%%px\n",
    "import os\n",
    "import tensorflow as tf\n",
    "import horovod.tensorflow.keras as hvd\n",
    "from datetime import datetime\n",
    "from tensorflow import keras"
   ]
  },
  {
   "cell_type": "code",
   "execution_count": 31,
   "metadata": {},
   "outputs": [],
   "source": [
    "%%px\n",
    "hvd.init()\n",
    "\n",
    "BATCH_SIZE = 64\n",
    "NUM_EPOCS = 4\n",
    "\n",
    "def decode(serialized_example):\n",
    "    \"\"\"Parses an image and label from the given `serialized_example`.\"\"\"\n",
    "    features = tf.io.parse_single_example(\n",
    "        serialized_example,\n",
    "        features={\n",
    "            'image_raw': tf.io.FixedLenFeature([], tf.string),\n",
    "            'label': tf.io.FixedLenFeature([], tf.int64),\n",
    "        })\n",
    "    label = tf.cast(features['label'], tf.int32)\n",
    "    image = tf.io.decode_raw(features['image_raw'], tf.uint8)\n",
    "    image = tf.reshape(image, (28, 28, 1))\n",
    "    return image, label\n",
    "\n",
    "\n",
    "def normalize(image, label):\n",
    "    \"\"\"Convert `image` from [0, 255] -> [-0.5, 0.5] floats.\"\"\"\n",
    "    image = tf.cast(image, tf.float32) * (1. / 255) - 0.5\n",
    "    return image, label\n",
    "\n",
    "\n",
    "def get_train_set(filename, batch_size=BATCH_SIZE, epochs=NUM_EPOCS):\n",
    "    dataset = tf.data.TFRecordDataset(filename)\n",
    "    dataset = dataset.map(decode)\n",
    "    # dataset = dataset.shuffle(128)\n",
    "    dataset = dataset.batch(batch_size)\n",
    "    dataset = dataset.map(normalize)\n",
    "    dataset = dataset.shard(hvd.size(), hvd.rank())\n",
    "    return dataset\n",
    "\n",
    "# here we use a different function for the validation data\n",
    "# only to do not shard. Like this we have the same batch in both\n",
    "# workers and we can check that the validation loss is the same\n",
    "# for both.\n",
    "def get_val_set(filename, batch_size=BATCH_SIZE, epochs=NUM_EPOCS):\n",
    "    dataset = tf.data.TFRecordDataset(filename)\n",
    "    dataset = dataset.map(decode)\n",
    "    dataset = dataset.batch(batch_size)\n",
    "    dataset = dataset.map(normalize)\n",
    "    return dataset\n",
    "\n",
    "\n",
    "model = keras.Sequential([keras.layers.Conv2D(32, kernel_size=(3, 3),\n",
    "                                             activation='relu',\n",
    "                                             input_shape=(28, 28, 1)),\n",
    "                          keras.layers.Conv2D(64, (3, 3), activation='relu'),\n",
    "                          keras.layers.MaxPooling2D(pool_size=(2, 2)),\n",
    "                          keras.layers.Dropout(0.25),\n",
    "                          keras.layers.Flatten(),\n",
    "                          keras.layers.Dense(128, activation='relu'),\n",
    "                          keras.layers.Dropout(0.5),\n",
    "                          keras.layers.Dense(10, activation='softmax')])\n",
    "\n",
    "opt = keras.optimizers.Adam(0.001)\n",
    "opt = hvd.DistributedOptimizer(opt)\n",
    "\n",
    "model.compile(optimizer=opt,\n",
    "              loss='sparse_categorical_crossentropy',\n",
    "              metrics=['accuracy'])\n",
    "\n",
    "tb_callback = tf.keras.callbacks.TensorBoard(\n",
    "    log_dir = os.path.join('cnn_hvd_logs',\n",
    "                           datetime.now().strftime(\"%d-%H%M\")),\n",
    "    histogram_freq = 1,\n",
    "    profile_batch = '700,730')\n",
    "\n",
    "hvd_callback = hvd.callbacks.BroadcastGlobalVariablesCallback(0)"
   ]
  },
  {
   "cell_type": "code",
   "execution_count": 32,
   "metadata": {},
   "outputs": [
    {
     "name": "stdout",
     "output_type": "stream",
     "text": [
      "[stdout:0] \n",
      "Epoch 1/4\n",
      "469/469 - 6s - loss: 0.2690 - accuracy: 0.9178 - val_loss: 0.0587 - val_accuracy: 0.9817\n",
      "Epoch 2/4\n",
      "469/469 - 6s - loss: 0.0904 - accuracy: 0.9734 - val_loss: 0.0351 - val_accuracy: 0.9881\n",
      "Epoch 3/4\n",
      "469/469 - 5s - loss: 0.0658 - accuracy: 0.9803 - val_loss: 0.0374 - val_accuracy: 0.9886\n",
      "Epoch 4/4\n",
      "469/469 - 7s - loss: 0.0541 - accuracy: 0.9839 - val_loss: 0.0327 - val_accuracy: 0.9895\n",
      "[stdout:1] \n",
      "Epoch 1/4\n",
      "469/469 - 6s - loss: 0.2685 - accuracy: 0.9164 - val_loss: 0.0587 - val_accuracy: 0.9817\n",
      "Epoch 2/4\n",
      "469/469 - 6s - loss: 0.0897 - accuracy: 0.9727 - val_loss: 0.0351 - val_accuracy: 0.9881\n",
      "Epoch 3/4\n",
      "469/469 - 5s - loss: 0.0660 - accuracy: 0.9802 - val_loss: 0.0374 - val_accuracy: 0.9886\n",
      "Epoch 4/4\n",
      "469/469 - 7s - loss: 0.0529 - accuracy: 0.9840 - val_loss: 0.0327 - val_accuracy: 0.9895\n"
     ]
    }
   ],
   "source": [
    "%%px\n",
    "fit = model.fit(get_train_set('../input_pipelines/tfrecords/train.tfrecords'),\n",
    "                validation_data=get_val_set('../input_pipelines/tfrecords/test.tfrecords', epochs=1),\n",
    "                epochs=NUM_EPOCS,\n",
    "                verbose=2,\n",
    "                callbacks=[hvd_callback, tb_callback])"
   ]
  },
  {
   "cell_type": "markdown",
   "metadata": {},
   "source": [
    "(!) Note that the validation losses and accuracies must be the same for both ranks."
   ]
  },
  {
   "cell_type": "code",
   "execution_count": 6,
   "metadata": {},
   "outputs": [],
   "source": [
    "%load_ext tensorboard"
   ]
  },
  {
   "cell_type": "code",
   "execution_count": 21,
   "metadata": {},
   "outputs": [
    {
     "data": {
      "text/plain": [
       "Reusing TensorBoard on port 6006 (pid 8532), started 0:17:26 ago. (Use '!kill 8532' to kill it.)"
      ]
     },
     "metadata": {},
     "output_type": "display_data"
    },
    {
     "data": {
      "text/html": [
       "\n",
       "        <iframe\n",
       "            width=\"100%\"\n",
       "            height=\"800\"\n",
       "            src=\"https://sarafael.jupyter.cscs.ch/hub/user-redirect/proxy/6006/#scalars\"\n",
       "            frameborder=\"0\"\n",
       "            allowfullscreen\n",
       "        ></iframe>\n",
       "        "
      ],
      "text/plain": [
       "<IPython.lib.display.IFrame at 0x2aaab3ebf790>"
      ]
     },
     "metadata": {},
     "output_type": "display_data"
    }
   ],
   "source": [
    "%tensorboard --logdir=cnn_hvd_logs"
   ]
  },
  {
   "cell_type": "code",
   "execution_count": 33,
   "metadata": {},
   "outputs": [],
   "source": [
    "%ipcluster stop"
   ]
  }
 ],
 "metadata": {
  "kernelspec": {
   "display_name": "tf-multigpu",
   "language": "python",
   "name": "tf-multigpu"
  },
  "language_info": {
   "codemirror_mode": {
    "name": "ipython",
    "version": 3
   },
   "file_extension": ".py",
   "mimetype": "text/x-python",
   "name": "python",
   "nbconvert_exporter": "python",
   "pygments_lexer": "ipython3",
   "version": "3.7.4"
  }
 },
 "nbformat": 4,
 "nbformat_minor": 4
}
