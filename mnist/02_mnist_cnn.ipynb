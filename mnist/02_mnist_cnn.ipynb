{
 "cells": [
  {
   "cell_type": "code",
   "execution_count": 10,
   "metadata": {},
   "outputs": [],
   "source": [
    "import os\n",
    "import tensorflow as tf\n",
    "from datetime import datetime\n",
    "from tensorflow import keras\n",
    "from tb_cscs import tensorboard"
   ]
  },
  {
   "cell_type": "code",
   "execution_count": 2,
   "metadata": {},
   "outputs": [],
   "source": [
    "BATCH_SIZE = 64\n",
    "NUM_EPOCS = 4"
   ]
  },
  {
   "cell_type": "code",
   "execution_count": 3,
   "metadata": {},
   "outputs": [],
   "source": [
    "def decode(serialized_example):\n",
    "    \"\"\"Parses an image and label from the given `serialized_example`.\"\"\"\n",
    "    features = tf.io.parse_single_example(\n",
    "        serialized_example,\n",
    "        features={\n",
    "            'image_raw': tf.io.FixedLenFeature([], tf.string),\n",
    "            'label': tf.io.FixedLenFeature([], tf.int64),\n",
    "        })\n",
    "    label = tf.cast(features['label'], tf.int32)\n",
    "    image = tf.io.decode_raw(features['image_raw'], tf.uint8)\n",
    "    image = tf.reshape(image, (28, 28, 1))\n",
    "    return image, label"
   ]
  },
  {
   "cell_type": "code",
   "execution_count": 4,
   "metadata": {},
   "outputs": [],
   "source": [
    "def normalize(image, label):\n",
    "    \"\"\"Convert `image` from [0, 255] -> [-0.5, 0.5] floats.\"\"\"\n",
    "    image = tf.cast(image, tf.float32) * (1. / 255) - 0.5\n",
    "    return image, label"
   ]
  },
  {
   "cell_type": "code",
   "execution_count": 52,
   "metadata": {},
   "outputs": [],
   "source": [
    "def get_dataset(filename, batch_size=BATCH_SIZE, epochs=NUM_EPOCS):\n",
    "    dataset = tf.data.TFRecordDataset(filename)\n",
    "    dataset = dataset.map(decode)\n",
    "    # dataset = dataset.shuffle(128)\n",
    "    dataset = dataset.batch(batch_size)\n",
    "    dataset = dataset.map(normalize)\n",
    "    # dataset = dataset.repeat(epochs)\n",
    "    return dataset"
   ]
  },
  {
   "cell_type": "code",
   "execution_count": 53,
   "metadata": {},
   "outputs": [],
   "source": [
    "model = keras.Sequential([keras.layers.Conv2D(32, kernel_size=(3, 3),\n",
    "                                             activation='relu',\n",
    "                                             input_shape=(28, 28, 1)),\n",
    "                          keras.layers.Conv2D(64, (3, 3), activation='relu'),\n",
    "                          keras.layers.MaxPooling2D(pool_size=(2, 2)),\n",
    "                          keras.layers.Dropout(0.25),\n",
    "                          keras.layers.Flatten(),\n",
    "                          keras.layers.Dense(128, activation='relu'),\n",
    "                          keras.layers.Dropout(0.5),\n",
    "                          keras.layers.Dense(10, activation='softmax')])\n",
    "\n",
    "model.compile(optimizer=keras.optimizers.Adam(0.001),\n",
    "              loss='sparse_categorical_crossentropy',\n",
    "              metrics=['accuracy'])"
   ]
  },
  {
   "cell_type": "code",
   "execution_count": 54,
   "metadata": {},
   "outputs": [],
   "source": [
    "tb_callback = tf.keras.callbacks.TensorBoard(log_dir = os.path.join('cnn_logs', datetime.now().strftime(\"%d-%H%M\")),\n",
    "                                             histogram_freq = 1,\n",
    "                                             profile_batch = '700,730')"
   ]
  },
  {
   "cell_type": "code",
   "execution_count": 55,
   "metadata": {},
   "outputs": [
    {
     "name": "stdout",
     "output_type": "stream",
     "text": [
      "Epoch 1/4\n",
      "938/938 [==============================] - 4s 4ms/step - loss: 0.2472 - accuracy: 0.9251 - val_loss: 0.0480 - val_accuracy: 0.9835\n",
      "Epoch 2/4\n",
      "938/938 [==============================] - 3s 4ms/step - loss: 0.0928 - accuracy: 0.9725 - val_loss: 0.0406 - val_accuracy: 0.9862\n",
      "Epoch 3/4\n",
      "938/938 [==============================] - 3s 4ms/step - loss: 0.0668 - accuracy: 0.9795 - val_loss: 0.0307 - val_accuracy: 0.9900\n",
      "Epoch 4/4\n",
      "938/938 [==============================] - 3s 4ms/step - loss: 0.0552 - accuracy: 0.9830 - val_loss: 0.0341 - val_accuracy: 0.9886\n"
     ]
    }
   ],
   "source": [
    "fit = model.fit(get_dataset('../input_pipelines/tfrecords/train.tfrecords'),\n",
    "                validation_data=get_dataset('../input_pipelines/tfrecords/test.tfrecords', epochs=1),\n",
    "                epochs=NUM_EPOCS,\n",
    "                callbacks=[tb_callback])"
   ]
  },
  {
   "cell_type": "code",
   "execution_count": 50,
   "metadata": {},
   "outputs": [
    {
     "name": "stdout",
     "output_type": "stream",
     "text": [
      "The tensorboard extension is already loaded. To reload it, use:\n",
      "  %reload_ext tensorboard\n"
     ]
    }
   ],
   "source": [
    "%load_ext tensorboard"
   ]
  },
  {
   "cell_type": "code",
   "execution_count": 56,
   "metadata": {},
   "outputs": [
    {
     "data": {
      "text/plain": [
       "Reusing TensorBoard on port 6009 (pid 28106), started 0:08:09 ago. (Use '!kill 28106' to kill it.)"
      ]
     },
     "metadata": {},
     "output_type": "display_data"
    },
    {
     "data": {
      "text/html": [
       "\n",
       "        <iframe\n",
       "            width=\"100%\"\n",
       "            height=\"800\"\n",
       "            src=\"https://sarafael.jupyter.cscs.ch/hub/user-redirect/proxy/6009/#scalars\"\n",
       "            frameborder=\"0\"\n",
       "            allowfullscreen\n",
       "        ></iframe>\n",
       "        "
      ],
      "text/plain": [
       "<IPython.lib.display.IFrame at 0x2aab3fe70790>"
      ]
     },
     "metadata": {},
     "output_type": "display_data"
    }
   ],
   "source": [
    "%tensorboard --logdir=cnn_logs"
   ]
  }
 ],
 "metadata": {
  "kernelspec": {
   "display_name": "tf-multigpu",
   "language": "python",
   "name": "tf-multigpu"
  },
  "language_info": {
   "codemirror_mode": {
    "name": "ipython",
    "version": 3
   },
   "file_extension": ".py",
   "mimetype": "text/x-python",
   "name": "python",
   "nbconvert_exporter": "python",
   "pygments_lexer": "ipython3",
   "version": "3.7.4"
  }
 },
 "nbformat": 4,
 "nbformat_minor": 4
}
