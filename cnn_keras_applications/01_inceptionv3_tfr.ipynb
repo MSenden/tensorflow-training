{
 "cells": [
  {
   "cell_type": "code",
   "execution_count": 1,
   "metadata": {},
   "outputs": [],
   "source": [
    "import os\n",
    "import glob\n",
    "import tensorflow as tf\n",
    "from datetime import datetime\n",
    "from tb_cscs import tensorboard"
   ]
  },
  {
   "cell_type": "code",
   "execution_count": 2,
   "metadata": {},
   "outputs": [],
   "source": [
    "image_shape = (224, 224)\n",
    "batch_size = 128\n",
    "\n",
    "def decode(serialized_example):\n",
    "    features = tf.io.parse_single_example(\n",
    "        serialized_example,\n",
    "        features={\n",
    "            'image/encoded': tf.io.FixedLenFeature([], tf.string),\n",
    "            'image/class/label': tf.io.FixedLenFeature([], tf.int64),\n",
    "        })\n",
    "    image = tf.image.decode_jpeg(features['image/encoded'], channels=3)\n",
    "    image = tf.image.resize(image, image_shape, method='bicubic')\n",
    "    label = tf.cast(features['image/class/label'], tf.int64)\n",
    "    return image, label-1"
   ]
  },
  {
   "cell_type": "code",
   "execution_count": 3,
   "metadata": {},
   "outputs": [],
   "source": [
    "list_of_files = glob.glob('/scratch/snx3000/stud50/imagenet/*')\n",
    "\n",
    "AUTO = tf.data.experimental.AUTOTUNE\n",
    "dataset = (tf.data.TFRecordDataset(list_of_files, num_parallel_reads=AUTO)\n",
    "           .map(decode, num_parallel_calls=AUTO)\n",
    "           .batch(batch_size)\n",
    "           .prefetch(AUTO)\n",
    "          )"
   ]
  },
  {
   "cell_type": "code",
   "execution_count": 4,
   "metadata": {},
   "outputs": [],
   "source": [
    "model = tf.keras.applications.InceptionV3(weights=None,\n",
    "                                          input_shape=(*image_shape, 3),\n",
    "                                          classes=1000)\n",
    "\n",
    "optimizer = tf.keras.optimizers.SGD(lr=0.01, momentum=0.9)\n",
    "\n",
    "model.compile(optimizer=optimizer,\n",
    "              loss='sparse_categorical_crossentropy',\n",
    "              metrics=['accuracy'])"
   ]
  },
  {
   "cell_type": "code",
   "execution_count": 5,
   "metadata": {},
   "outputs": [],
   "source": [
    "tb_callback = tf.keras.callbacks.TensorBoard(log_dir=os.path.join('inceptionv3_logs',\n",
    "                                                                  datetime.now().strftime(\"%d-%H%M\")),\n",
    "                                             histogram_freq=1,\n",
    "                                             profile_batch='80,100')"
   ]
  },
  {
   "cell_type": "code",
   "execution_count": 6,
   "metadata": {},
   "outputs": [
    {
     "name": "stdout",
     "output_type": "stream",
     "text": [
      "     99/Unknown - 45s 458ms/step - loss: 7.0105 - accuracy: 0.0013WARNING:tensorflow:From /apps/daint/UES/6.0.UP04/sandboxes/sarafael/miniconda-tf2.3/lib/python3.7/site-packages/tensorflow/python/ops/summary_ops_v2.py:1277: stop (from tensorflow.python.eager.profiler) is deprecated and will be removed after 2020-07-01.\n",
      "Instructions for updating:\n",
      "use `tf.profiler.experimental.stop` instead.\n",
      "100/100 [==============================] - 52s 524ms/step - loss: 7.0102 - accuracy: 0.0013\n"
     ]
    }
   ],
   "source": [
    "fit = model.fit(dataset.take(100),\n",
    "                epochs=1,\n",
    "                callbacks=[tb_callback])"
   ]
  },
  {
   "cell_type": "code",
   "execution_count": 7,
   "metadata": {},
   "outputs": [],
   "source": [
    "%reload_ext tensorboard"
   ]
  },
  {
   "cell_type": "code",
   "execution_count": 8,
   "metadata": {},
   "outputs": [
    {
     "data": {
      "text/plain": [
       "Reusing TensorBoard on port 6006 (pid 19557), started 6:07:35 ago. (Use '!kill 19557' to kill it.)"
      ]
     },
     "metadata": {},
     "output_type": "display_data"
    },
    {
     "data": {
      "text/html": [
       "\n",
       "        <iframe\n",
       "            width=\"100%\"\n",
       "            height=\"800\"\n",
       "            src=\"https://dealmeih.jupyter.cscs.ch/hub/user-redirect/proxy/6006/#scalars\"\n",
       "            frameborder=\"0\"\n",
       "            allowfullscreen\n",
       "        ></iframe>\n",
       "        "
      ],
      "text/plain": [
       "<IPython.lib.display.IFrame at 0x2aac87f83750>"
      ]
     },
     "metadata": {},
     "output_type": "display_data"
    }
   ],
   "source": [
    "%tensorboard --logdir=inceptionv3_logs"
   ]
  }
 ],
 "metadata": {
  "kernelspec": {
   "display_name": "tf-multigpu",
   "language": "python",
   "name": "tf-multigpu"
  },
  "language_info": {
   "codemirror_mode": {
    "name": "ipython",
    "version": 3
   },
   "file_extension": ".py",
   "mimetype": "text/x-python",
   "name": "python",
   "nbconvert_exporter": "python",
   "pygments_lexer": "ipython3",
   "version": "3.7.4"
  }
 },
 "nbformat": 4,
 "nbformat_minor": 4
}
