{
 "cells": [
  {
   "cell_type": "code",
   "execution_count": 1,
   "metadata": {},
   "outputs": [],
   "source": [
    "import ipcmagic\n",
    "from tb_cscs import tensorboard"
   ]
  },
  {
   "cell_type": "code",
   "execution_count": 2,
   "metadata": {},
   "outputs": [
    {
     "name": "stdout",
     "output_type": "stream",
     "text": [
      "IPCluster is ready! (6 seconds)\n"
     ]
    }
   ],
   "source": [
    "%ipcluster start -n 2 --mpi"
   ]
  },
  {
   "cell_type": "code",
   "execution_count": 3,
   "metadata": {},
   "outputs": [],
   "source": [
    "%%px\n",
    "import os\n",
    "import glob\n",
    "import tensorflow as tf\n",
    "import horovod.tensorflow.keras as hvd\n",
    "from datetime import datetime\n",
    "from tb_cscs import tensorboard"
   ]
  },
  {
   "cell_type": "code",
   "execution_count": 4,
   "metadata": {},
   "outputs": [],
   "source": [
    "%%px\n",
    "hvd.init()\n",
    "\n",
    "image_shape = (224, 224)\n",
    "batch_size = 128\n",
    "\n",
    "def decode(serialized_example):\n",
    "    features = tf.io.parse_single_example(\n",
    "        serialized_example,\n",
    "        features={\n",
    "            'image/encoded': tf.io.FixedLenFeature([], tf.string),\n",
    "            'image/class/label': tf.io.FixedLenFeature([], tf.int64),\n",
    "        })\n",
    "    image = tf.image.decode_jpeg(features['image/encoded'], channels=3)\n",
    "    image = tf.image.resize(image, image_shape, method='bicubic')\n",
    "    label = tf.cast(features['image/class/label'], tf.int64)\n",
    "    return image, label-1\n",
    "\n",
    "\n",
    "list_of_files = glob.glob('/scratch/snx3000/stud50/imagenet/train*')\n",
    "\n",
    "AUTO = tf.data.experimental.AUTOTUNE\n",
    "dataset = (tf.data.TFRecordDataset(list_of_files, num_parallel_reads=AUTO)\n",
    "           .shard(hvd.size(), hvd.rank())\n",
    "           .map(decode, num_parallel_calls=AUTO)\n",
    "           .shuffle(2048)\n",
    "           .batch(batch_size)\n",
    "           .prefetch(AUTO)\n",
    "          )\n",
    "\n",
    "model = tf.keras.applications.InceptionV3(weights=None,\n",
    "                                          input_shape=(*image_shape, 3),\n",
    "                                          classes=1000)\n",
    "\n",
    "optimizer = tf.keras.optimizers.SGD(lr=0.01, momentum=0.9)\n",
    "optimizer = hvd.DistributedOptimizer(optimizer)\n",
    "\n",
    "model.compile(optimizer=optimizer,\n",
    "              loss='sparse_categorical_crossentropy',\n",
    "              metrics=['accuracy'])\n",
    "\n",
    "hvd_callback = hvd.callbacks.BroadcastGlobalVariablesCallback(0)\n",
    "\n",
    "tb_callback = tf.keras.callbacks.TensorBoard(log_dir=os.path.join('inceptionv3_logs',\n",
    "                                                                  datetime.now().strftime(\"%d-%H%M\")),\n",
    "                                             histogram_freq=1,\n",
    "                                             profile_batch='80,100')"
   ]
  },
  {
   "cell_type": "code",
   "execution_count": 5,
   "metadata": {},
   "outputs": [
    {
     "name": "stdout",
     "output_type": "stream",
     "text": [
      "100/100 [==============================] - 56s 559ms/step - loss: 6.9663 - accuracy: 0.0018\n",
      "100/100 [==============================] - 56s 558ms/step - loss: 6.9681 - accuracy: 0.0016\n"
     ]
    }
   ],
   "source": [
    "%%px\n",
    "fit = model.fit(dataset.take(100),\n",
    "                epochs=1,\n",
    "                callbacks=[hvd_callback, tb_callback])"
   ]
  },
  {
   "cell_type": "code",
   "execution_count": 6,
   "metadata": {},
   "outputs": [],
   "source": [
    "%reload_ext tensorboard"
   ]
  },
  {
   "cell_type": "code",
   "execution_count": 7,
   "metadata": {},
   "outputs": [
    {
     "data": {
      "text/plain": [
       "Reusing TensorBoard on port 6006 (pid 19557), started 7:24:18 ago. (Use '!kill 19557' to kill it.)"
      ]
     },
     "metadata": {},
     "output_type": "display_data"
    },
    {
     "data": {
      "text/html": [
       "\n",
       "        <iframe\n",
       "            width=\"100%\"\n",
       "            height=\"800\"\n",
       "            src=\"https://dealmeih.jupyter.cscs.ch/hub/user-redirect/proxy/6006/#scalars\"\n",
       "            frameborder=\"0\"\n",
       "            allowfullscreen\n",
       "        ></iframe>\n",
       "        "
      ],
      "text/plain": [
       "<IPython.lib.display.IFrame at 0x2aaab17594d0>"
      ]
     },
     "metadata": {},
     "output_type": "display_data"
    }
   ],
   "source": [
    "%tensorboard --logdir=inceptionv3_logs"
   ]
  },
  {
   "cell_type": "code",
   "execution_count": 8,
   "metadata": {},
   "outputs": [],
   "source": [
    "%ipcluster stop"
   ]
  }
 ],
 "metadata": {
  "kernelspec": {
   "display_name": "tf-multigpu",
   "language": "python",
   "name": "tf-multigpu"
  },
  "language_info": {
   "codemirror_mode": {
    "name": "ipython",
    "version": 3
   },
   "file_extension": ".py",
   "mimetype": "text/x-python",
   "name": "python",
   "nbconvert_exporter": "python",
   "pygments_lexer": "ipython3",
   "version": "3.7.4"
  }
 },
 "nbformat": 4,
 "nbformat_minor": 4
}
