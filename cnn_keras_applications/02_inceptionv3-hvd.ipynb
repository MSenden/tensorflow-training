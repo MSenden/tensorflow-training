{
 "cells": [
  {
   "cell_type": "code",
   "execution_count": 15,
   "metadata": {},
   "outputs": [],
   "source": [
    "import ipcmagic\n",
    "from tb_cscs import tensorboard"
   ]
  },
  {
   "cell_type": "code",
   "execution_count": 2,
   "metadata": {},
   "outputs": [
    {
     "name": "stdout",
     "output_type": "stream",
     "text": [
      "IPCluster is ready! (5 seconds)\n"
     ]
    }
   ],
   "source": [
    "%ipcluster start -n 2 --mpi"
   ]
  },
  {
   "cell_type": "code",
   "execution_count": 3,
   "metadata": {},
   "outputs": [],
   "source": [
    "%%px\n",
    "import os\n",
    "import tensorflow as tf\n",
    "import horovod.tensorflow.keras as hvd\n",
    "from datetime import datetime\n",
    "from tb_cscs import tensorboard"
   ]
  },
  {
   "cell_type": "code",
   "execution_count": 16,
   "metadata": {},
   "outputs": [],
   "source": [
    "%%px\n",
    "hvd.init()\n",
    "\n",
    "\n",
    "def decode(serialized_example):\n",
    "    features = tf.io.parse_single_example(\n",
    "        serialized_example,\n",
    "        features={\n",
    "            'image/encoded': tf.io.FixedLenFeature([], tf.string),\n",
    "            'image/class/label': tf.io.FixedLenFeature([], tf.int64),\n",
    "        })\n",
    "    image = tf.image.decode_jpeg(features['image/encoded'], channels=3)\n",
    "    image = tf.image.resize(image, (224, 224))\n",
    "    label = tf.cast(features['image/class/label'], tf.int64)\n",
    "    label = tf.one_hot(label, 1001)\n",
    "    return image, label\n",
    "\n",
    "\n",
    "data_dir = '/scratch/snx3000/stud50/imagenet/'\n",
    "list_of_files = [os.path.join(data_dir, f) for f in os.listdir(data_dir)]\n",
    "\n",
    "dataset = tf.data.Dataset.list_files(list_of_files)\n",
    "dataset = dataset.interleave(tf.data.TFRecordDataset,\n",
    "                             cycle_length=120,\n",
    "                             block_length=1,\n",
    "                             num_parallel_calls=12)\n",
    "dataset = dataset.map(decode)\n",
    "dataset = dataset.batch(128)\n",
    "dataset = dataset.shard(hvd.size(), hvd.rank())\n",
    "dataset = dataset.prefetch(tf.data.experimental.AUTOTUNE)\n",
    "\n",
    "model = tf.keras.applications.InceptionV3(weights=None,\n",
    "                                          input_shape=(224, 224, 3),\n",
    "                                          classes=1001)\n",
    "\n",
    "optimizer = tf.keras.optimizers.SGD(lr=0.01, momentum=0.9)\n",
    "optimizer = hvd.DistributedOptimizer(optimizer)\n",
    "\n",
    "model.compile(optimizer=optimizer,\n",
    "              loss='categorical_crossentropy',\n",
    "              metrics=['accuracy'])\n",
    "\n",
    "tb_callback = tf.keras.callbacks.TensorBoard(log_dir=os.path.join('inceptionv3_logs',\n",
    "                                                                  datetime.now().strftime(\"%d-%H%M\")),\n",
    "                                             histogram_freq=1,\n",
    "                                             profile_batch='85,95')\n",
    "\n",
    "hvd_callback = hvd.callbacks.BroadcastGlobalVariablesCallback(0)"
   ]
  },
  {
   "cell_type": "code",
   "execution_count": 17,
   "metadata": {},
   "outputs": [
    {
     "name": "stdout",
     "output_type": "stream",
     "text": [
      "100/100 [==============================] - 68s 681ms/step - loss: 6.9530 - accuracy: 0.0025\n",
      "100/100 [==============================] - 68s 681ms/step - loss: 6.9624 - accuracy: 0.0027\n"
     ]
    }
   ],
   "source": [
    "%%px\n",
    "fit = model.fit(dataset.take(100),\n",
    "                epochs=1,\n",
    "                callbacks=[hvd_callback, tb_callback])"
   ]
  },
  {
   "cell_type": "code",
   "execution_count": 12,
   "metadata": {},
   "outputs": [
    {
     "name": "stdout",
     "output_type": "stream",
     "text": [
      "The tensorboard extension is already loaded. To reload it, use:\n",
      "  %reload_ext tensorboard\n"
     ]
    }
   ],
   "source": [
    "%load_ext tensorboard"
   ]
  },
  {
   "cell_type": "code",
   "execution_count": 13,
   "metadata": {},
   "outputs": [
    {
     "data": {
      "text/plain": [
       "Reusing TensorBoard on port 6006 (pid 12324), started 0:29:57 ago. (Use '!kill 12324' to kill it.)"
      ]
     },
     "metadata": {},
     "output_type": "display_data"
    },
    {
     "data": {
      "text/html": [
       "\n",
       "        <iframe\n",
       "            width=\"100%\"\n",
       "            height=\"800\"\n",
       "            src=\"https://sarafael.jupyter.cscs.ch/hub/user-redirect/proxy/6006/#scalars\"\n",
       "            frameborder=\"0\"\n",
       "            allowfullscreen\n",
       "        ></iframe>\n",
       "        "
      ],
      "text/plain": [
       "<IPython.lib.display.IFrame at 0x2aaad4bf7a10>"
      ]
     },
     "metadata": {},
     "output_type": "display_data"
    }
   ],
   "source": [
    "%tensorboard --logdir=inceptionv3_logs"
   ]
  },
  {
   "cell_type": "code",
   "execution_count": 18,
   "metadata": {},
   "outputs": [],
   "source": [
    "%ipcluster stop"
   ]
  }
 ],
 "metadata": {
  "kernelspec": {
   "display_name": "tf-multigpu",
   "language": "python",
   "name": "tf-multigpu"
  },
  "language_info": {
   "codemirror_mode": {
    "name": "ipython",
    "version": 3
   },
   "file_extension": ".py",
   "mimetype": "text/x-python",
   "name": "python",
   "nbconvert_exporter": "python",
   "pygments_lexer": "ipython3",
   "version": "3.7.4"
  }
 },
 "nbformat": 4,
 "nbformat_minor": 4
}
