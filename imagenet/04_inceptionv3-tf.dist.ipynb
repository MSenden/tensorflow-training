{
 "cells": [
  {
   "cell_type": "code",
   "execution_count": 1,
   "metadata": {},
   "outputs": [],
   "source": [
    "import ipcmagic"
   ]
  },
  {
   "cell_type": "code",
   "execution_count": 2,
   "metadata": {},
   "outputs": [
    {
     "name": "stdout",
     "output_type": "stream",
     "text": [
      "IPCluster is ready! (5 seconds)\n"
     ]
    }
   ],
   "source": [
    "%ipcluster start -n 2 --mpi"
   ]
  },
  {
   "cell_type": "code",
   "execution_count": 3,
   "metadata": {},
   "outputs": [
    {
     "data": {
      "text/plain": [
       "\u001b[0;31mOut[0:1]: \u001b[0m(0, 2)"
      ]
     },
     "metadata": {
      "after": [],
      "completed": "2020-09-01T13:47:35.017256",
      "data": {},
      "engine_id": 0,
      "engine_uuid": "5210d210-302b3b84371f39ad0145622c",
      "error": null,
      "execute_input": "import os\nimport glob\nimport tensorflow as tf\nfrom datetime import datetime\nfrom tb_cscs import tensorboard\n\nstrategy = tf.distribute.experimental.MultiWorkerMirroredStrategy(\n    cluster_resolver=tf.distribute.cluster_resolver.SlurmClusterResolver(),\n    communication=tf.distribute.experimental.CollectiveCommunication.NCCL,\n)\n\nnum_workers = int(os.environ['SLURM_NNODES'])\nnode_id = int(os.environ['SLURM_NODEID'])\n\nnode_id, num_workers\n",
      "execute_result": {
       "data": {
        "text/plain": "(0, 2)"
       },
       "execution_count": 1,
       "metadata": {}
      },
      "follow": [],
      "msg_id": "28facf3d-b33605d19eac9edb48761855_1",
      "outputs": [],
      "received": "2020-09-01T13:47:35.019160",
      "started": "2020-09-01T13:47:32.096768",
      "status": "ok",
      "stderr": "",
      "stdout": "",
      "submitted": "2020-09-01T13:47:32.094320"
     },
     "output_type": "display_data"
    },
    {
     "data": {
      "text/plain": [
       "\u001b[0;31mOut[1:1]: \u001b[0m(1, 2)"
      ]
     },
     "metadata": {
      "after": [],
      "completed": "2020-09-01T13:47:43.194529",
      "data": {},
      "engine_id": 1,
      "engine_uuid": "de98b22d-2603e719e27e9afbb1fb4ae2",
      "error": null,
      "execute_input": "import os\nimport glob\nimport tensorflow as tf\nfrom datetime import datetime\nfrom tb_cscs import tensorboard\n\nstrategy = tf.distribute.experimental.MultiWorkerMirroredStrategy(\n    cluster_resolver=tf.distribute.cluster_resolver.SlurmClusterResolver(),\n    communication=tf.distribute.experimental.CollectiveCommunication.NCCL,\n)\n\nnum_workers = int(os.environ['SLURM_NNODES'])\nnode_id = int(os.environ['SLURM_NODEID'])\n\nnode_id, num_workers\n",
      "execute_result": {
       "data": {
        "text/plain": "(1, 2)"
       },
       "execution_count": 1,
       "metadata": {}
      },
      "follow": [],
      "msg_id": "28facf3d-b33605d19eac9edb48761855_2",
      "outputs": [],
      "received": "2020-09-01T13:47:43.196607",
      "started": "2020-09-01T13:47:32.096863",
      "status": "ok",
      "stderr": "",
      "stdout": "",
      "submitted": "2020-09-01T13:47:32.094599"
     },
     "output_type": "display_data"
    }
   ],
   "source": [
    "%%px\n",
    "import os\n",
    "import glob\n",
    "import tensorflow as tf\n",
    "from datetime import datetime\n",
    "from tb_cscs import tensorboard\n",
    "\n",
    "strategy = tf.distribute.experimental.MultiWorkerMirroredStrategy(\n",
    "    cluster_resolver=tf.distribute.cluster_resolver.SlurmClusterResolver(),\n",
    "    communication=tf.distribute.experimental.CollectiveCommunication.NCCL,\n",
    ")\n",
    "\n",
    "num_workers = int(os.environ['SLURM_NNODES'])\n",
    "node_id = int(os.environ['SLURM_NODEID'])\n",
    "\n",
    "node_id, num_workers"
   ]
  },
  {
   "cell_type": "code",
   "execution_count": 4,
   "metadata": {},
   "outputs": [],
   "source": [
    "%%px\n",
    "image_shape = (224, 224)\n",
    "batch_size = 128 * num_workers\n",
    "\n",
    "def decode(serialized_example):\n",
    "    features = tf.io.parse_single_example(\n",
    "        serialized_example,\n",
    "        features={\n",
    "            'image/encoded': tf.io.FixedLenFeature([], tf.string),\n",
    "            'image/class/label': tf.io.FixedLenFeature([], tf.int64),\n",
    "        })\n",
    "    image = tf.image.decode_jpeg(features['image/encoded'], channels=3)\n",
    "    image = tf.image.resize(image, image_shape, method='bicubic')\n",
    "    label = tf.cast(features['image/class/label'], tf.int64)\n",
    "    return image, label-1\n",
    "\n",
    "list_of_files = glob.glob('/scratch/snx3000/stud50/imagenet/train*')\n",
    "\n",
    "AUTO = tf.data.experimental.AUTOTUNE\n",
    "dataset = (tf.data.TFRecordDataset(list_of_files, num_parallel_reads=AUTO)\n",
    "           .map(decode, num_parallel_calls=AUTO)\n",
    "           .batch(batch_size)\n",
    "           .prefetch(AUTO)\n",
    "          )"
   ]
  },
  {
   "cell_type": "code",
   "execution_count": 5,
   "metadata": {},
   "outputs": [],
   "source": [
    "%%px\n",
    "with strategy.scope():\n",
    "    model = tf.keras.applications.InceptionV3(weights=None,\n",
    "                                              input_shape=(*image_shape, 3),\n",
    "                                              classes=1000)\n",
    "\n",
    "    optimizer = tf.keras.optimizers.SGD(lr=0.01, momentum=0.9)\n",
    "\n",
    "    model.compile(optimizer=optimizer,\n",
    "                  loss='sparse_categorical_crossentropy',\n",
    "                  metrics=['accuracy'])\n",
    "\n",
    "tb_callback = tf.keras.callbacks.TensorBoard(log_dir=os.path.join('inceptionv3_logs',\n",
    "                                                                  datetime.now().strftime(\"%d-%H%M\")),\n",
    "                                             histogram_freq=1,\n",
    "                                             profile_batch='80,100')"
   ]
  },
  {
   "cell_type": "code",
   "execution_count": 6,
   "metadata": {},
   "outputs": [
    {
     "name": "stdout",
     "output_type": "stream",
     "text": [
      "100/100 [==============================] - 56s 557ms/step - loss: 6.9622 - accuracy: 0.0019\n",
      "100/100 [==============================] - 56s 557ms/step - loss: 6.9622 - accuracy: 0.0019\n"
     ]
    }
   ],
   "source": [
    "%%px\n",
    "fit = model.fit(dataset,\n",
    "                steps_per_epoch=100,\n",
    "                epochs=1,\n",
    "                callbacks=[tb_callback])"
   ]
  },
  {
   "cell_type": "code",
   "execution_count": 7,
   "metadata": {},
   "outputs": [],
   "source": [
    "%reload_ext tensorboard"
   ]
  },
  {
   "cell_type": "code",
   "execution_count": 8,
   "metadata": {},
   "outputs": [
    {
     "data": {
      "text/plain": [
       "Reusing TensorBoard on port 6006 (pid 19557), started 6:23:24 ago. (Use '!kill 19557' to kill it.)"
      ]
     },
     "metadata": {},
     "output_type": "display_data"
    },
    {
     "data": {
      "text/html": [
       "\n",
       "        <iframe\n",
       "            width=\"100%\"\n",
       "            height=\"800\"\n",
       "            src=\"https://dealmeih.jupyter.cscs.ch/hub/user-redirect/proxy/6006/#scalars\"\n",
       "            frameborder=\"0\"\n",
       "            allowfullscreen\n",
       "        ></iframe>\n",
       "        "
      ],
      "text/plain": [
       "<IPython.lib.display.IFrame at 0x2aaab3a18e90>"
      ]
     },
     "metadata": {},
     "output_type": "display_data"
    }
   ],
   "source": [
    "%tensorboard --logdir=inceptionv3_logs"
   ]
  },
  {
   "cell_type": "code",
   "execution_count": 9,
   "metadata": {},
   "outputs": [],
   "source": [
    "%ipcluster stop"
   ]
  }
 ],
 "metadata": {
  "kernelspec": {
   "display_name": "tf-multigpu",
   "language": "python",
   "name": "tf-multigpu"
  },
  "language_info": {
   "codemirror_mode": {
    "name": "ipython",
    "version": 3
   },
   "file_extension": ".py",
   "mimetype": "text/x-python",
   "name": "python",
   "nbconvert_exporter": "python",
   "pygments_lexer": "ipython3",
   "version": "3.7.4"
  }
 },
 "nbformat": 4,
 "nbformat_minor": 4
}
