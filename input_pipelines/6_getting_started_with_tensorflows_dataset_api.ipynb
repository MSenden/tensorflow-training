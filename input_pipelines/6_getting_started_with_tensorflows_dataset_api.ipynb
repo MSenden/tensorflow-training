{
 "cells": [
  {
   "cell_type": "markdown",
   "metadata": {},
   "source": [
    "# Getting started with TensorFlow's `Dataset` API (continuation)\n",
    "\n",
    "In this notebook we will learn how to divide the dataset over the ranks in distributed training.\n",
    "This time we are going to use `tf.distribute`.\n",
    "\n",
    "Here we are going to see `tf.distribute.Strategy.experimental_distribute_dataset`. This is the recommended API for an automatic way to shard the data over the workers.\n",
    "\n",
    " * `tf.distribute` rebatches the input tf.data.Dataset instance with a new batch size that is equal to the given batch size divided by the number of replicas in sync.\n",
    " * `tf.distribute` autoshards the input dataset in multi worker training.\n",
    " * `tf.distribute` adds a prefetch transformation at the end of the user provided tf.data.Dataset instance. The buffer_size is equal to the number of replicas in sync.\n"
   ]
  },
  {
   "cell_type": "code",
   "execution_count": 1,
   "metadata": {},
   "outputs": [],
   "source": [
    "import ipcmagic"
   ]
  },
  {
   "cell_type": "code",
   "execution_count": 2,
   "metadata": {},
   "outputs": [
    {
     "name": "stdout",
     "output_type": "stream",
     "text": [
      "IPCluster is ready! (9 seconds)\n"
     ]
    }
   ],
   "source": [
    "%ipcluster start -n 2 --mpi"
   ]
  },
  {
   "cell_type": "code",
   "execution_count": 3,
   "metadata": {},
   "outputs": [],
   "source": [
    "%%px\n",
    "import numpy as np\n",
    "import tensorflow as tf"
   ]
  },
  {
   "cell_type": "code",
   "execution_count": 4,
   "metadata": {},
   "outputs": [],
   "source": [
    "%%px\n",
    "strategy = tf.distribute.experimental.MultiWorkerMirroredStrategy(\n",
    "    cluster_resolver=tf.distribute.cluster_resolver.SlurmClusterResolver(),\n",
    "    communication=tf.distribute.experimental.CollectiveCommunication.NCCL,\n",
    ")"
   ]
  },
  {
   "cell_type": "code",
   "execution_count": 5,
   "metadata": {},
   "outputs": [],
   "source": [
    "%%px\n",
    "def dataset_generator():\n",
    "    \"\"\"A data-producing logic\"\"\"\n",
    "    for i in range(8):\n",
    "        yield (i, i)"
   ]
  },
  {
   "cell_type": "code",
   "execution_count": 8,
   "metadata": {},
   "outputs": [
    {
     "name": "stdout",
     "output_type": "stream",
     "text": [
      "[stdout:0] \n",
      "    x: [0 1 2 3]    y: [0 1 2 3]\n",
      "    x: [4 5 6 7]    y: [4 5 6 7]\n",
      "    x: [0 1 2 3]    y: [0 1 2 3]\n",
      "    x: [4 5 6 7]    y: [4 5 6 7]\n",
      "[stdout:1] \n",
      "    x: [0 1 2 3]    y: [0 1 2 3]\n",
      "    x: [4 5 6 7]    y: [4 5 6 7]\n",
      "    x: [0 1 2 3]    y: [0 1 2 3]\n",
      "    x: [4 5 6 7]    y: [4 5 6 7]\n"
     ]
    }
   ],
   "source": [
    "%%px\n",
    "dataset = tf.data.Dataset.from_generator(dataset_generator, output_types=(tf.int32, tf.int32))\n",
    "dataset = dataset.batch(4)\n",
    "dataset = dataset.repeat(2)\n",
    "\n",
    "for x, y in dataset:\n",
    "    print(f'    x: {x}    y: {y}')"
   ]
  },
  {
   "cell_type": "code",
   "execution_count": 9,
   "metadata": {},
   "outputs": [
    {
     "name": "stdout",
     "output_type": "stream",
     "text": [
      "[stdout:0] \n",
      "    x: [0 1]    y: [0 1]\n",
      "    x: [4 5]    y: [4 5]\n",
      "    x: [0 1]    y: [0 1]\n",
      "    x: [4 5]    y: [4 5]\n",
      "[stdout:1] \n",
      "    x: [2 3]    y: [2 3]\n",
      "    x: [6 7]    y: [6 7]\n",
      "    x: [2 3]    y: [2 3]\n",
      "    x: [6 7]    y: [6 7]\n"
     ]
    }
   ],
   "source": [
    "%%px\n",
    "dataset = tf.data.Dataset.from_generator(dataset_generator, output_types=(tf.int32, tf.int32))\n",
    "dataset = dataset.batch(4)\n",
    "dataset = dataset.repeat(2)\n",
    "dataset = strategy.experimental_distribute_dataset(dataset)\n",
    "\n",
    "for x, y in dataset:\n",
    "    print(f'    x: {x}    y: {y}')"
   ]
  },
  {
   "cell_type": "code",
   "execution_count": 10,
   "metadata": {},
   "outputs": [
    {
     "name": "stdout",
     "output_type": "stream",
     "text": [
      "[stdout:0] \n",
      "    x: [0 1]    y: [0 1]\n",
      "    x: [4 5]    y: [4 5]\n",
      "    x: [0 1]    y: [0 1]\n",
      "    x: [4 5]    y: [4 5]\n",
      "[stdout:1] \n",
      "    x: [2 3]    y: [2 3]\n",
      "    x: [6 7]    y: [6 7]\n",
      "    x: [2 3]    y: [2 3]\n",
      "    x: [6 7]    y: [6 7]\n"
     ]
    }
   ],
   "source": [
    "%%px\n",
    "dataset = tf.data.Dataset.from_generator(dataset_generator, output_types=(tf.int32, tf.int32))\n",
    "dataset = dataset.batch(4)\n",
    "dataset = dataset.repeat(2)\n",
    "# the followinf is the same than the cell above\n",
    "# `tf.data.experimental.AutoShardPolicy.DATA` is the default option\n",
    "options = tf.data.Options()\n",
    "options.experimental_distribute.auto_shard_policy = tf.data.experimental.AutoShardPolicy.DATA\n",
    "dataset = dataset.with_options(options)\n",
    "#\n",
    "dataset = strategy.experimental_distribute_dataset(dataset)\n",
    "\n",
    "for x, y in dataset:\n",
    "    print(f'    x: {x}    y: {y}')"
   ]
  },
  {
   "cell_type": "code",
   "execution_count": 11,
   "metadata": {},
   "outputs": [
    {
     "name": "stdout",
     "output_type": "stream",
     "text": [
      "[stdout:0] \n",
      "    x: [0 1]    y: [0 1]\n",
      "    x: [2 3]    y: [2 3]\n",
      "    x: [4 5]    y: [4 5]\n",
      "    x: [6 7]    y: [6 7]\n",
      "    x: [0 1]    y: [0 1]\n",
      "    x: [2 3]    y: [2 3]\n",
      "    x: [4 5]    y: [4 5]\n",
      "    x: [6 7]    y: [6 7]\n",
      "[stdout:1] \n",
      "    x: [0 1]    y: [0 1]\n",
      "    x: [2 3]    y: [2 3]\n",
      "    x: [4 5]    y: [4 5]\n",
      "    x: [6 7]    y: [6 7]\n",
      "    x: [0 1]    y: [0 1]\n",
      "    x: [2 3]    y: [2 3]\n",
      "    x: [4 5]    y: [4 5]\n",
      "    x: [6 7]    y: [6 7]\n"
     ]
    }
   ],
   "source": [
    "%%px\n",
    "dataset = tf.data.Dataset.from_generator(dataset_generator, output_types=(tf.int32, tf.int32))\n",
    "dataset = dataset.batch(4)\n",
    "dataset = dataset.repeat(2)\n",
    "options = tf.data.Options()\n",
    "options.experimental_distribute.auto_shard_policy = tf.data.experimental.AutoShardPolicy.OFF\n",
    "dataset = dataset.with_options(options)\n",
    "dataset = strategy.experimental_distribute_dataset(dataset)\n",
    "\n",
    "for x, y in dataset:\n",
    "    print(f'    x: {x}    y: {y}')"
   ]
  },
  {
   "cell_type": "code",
   "execution_count": 12,
   "metadata": {},
   "outputs": [],
   "source": [
    "%ipcluster stop"
   ]
  },
  {
   "cell_type": "markdown",
   "metadata": {},
   "source": [
    ">> In practice  `strategy.experimental_distribute_dataset(dataset)` is not added byt the user to the input pipeline.`tf.distributed` adds automatically `dataset = strategy.experimental_distribute_dataset(dataset)` to the dataset."
   ]
  }
 ],
 "metadata": {
  "kernelspec": {
   "display_name": "tf-multigpu",
   "language": "python",
   "name": "tf-multigpu"
  },
  "language_info": {
   "codemirror_mode": {
    "name": "ipython",
    "version": 3
   },
   "file_extension": ".py",
   "mimetype": "text/x-python",
   "name": "python",
   "nbconvert_exporter": "python",
   "pygments_lexer": "ipython3",
   "version": "3.7.4"
  }
 },
 "nbformat": 4,
 "nbformat_minor": 4
}
