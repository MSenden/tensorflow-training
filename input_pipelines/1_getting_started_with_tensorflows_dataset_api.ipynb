{
 "cells": [
  {
   "cell_type": "markdown",
   "metadata": {},
   "source": [
    "# Getting started with TensorFlow's `Dataset` API\n",
    "\n",
    "In this notebook we use TensorFlow's [`tf.data`](https://www.tensorflow.org/api_docs/python/tf/data/) API  to build simple input pipelines from Numpy and TensorFlow arrays existing in memory. This is intended to be used only with very small datasets as it can be considerably inefficient.\n",
    "\n",
    "More info can be found on the session [Importing Data](https://www.tensorflow.org/guide/datasets) on TensorFlow's page."
   ]
  },
  {
   "cell_type": "code",
   "execution_count": 1,
   "metadata": {},
   "outputs": [],
   "source": [
    "import numpy as np\n",
    "import tensorflow as tf"
   ]
  },
  {
   "cell_type": "code",
   "execution_count": 2,
   "metadata": {},
   "outputs": [
    {
     "data": {
      "text/plain": [
       "'2.3.0'"
      ]
     },
     "execution_count": 2,
     "metadata": {},
     "output_type": "execute_result"
    }
   ],
   "source": [
    "tf.version.VERSION"
   ]
  },
  {
   "cell_type": "code",
   "execution_count": 3,
   "metadata": {},
   "outputs": [],
   "source": [
    "# Create fake data\n",
    "nsamples = 10\n",
    "nfeatures = 4\n",
    "x_numpy = np.random.random((nsamples, nfeatures))\n",
    "y_numpy = x_numpy.sum(axis=1).astype(int)"
   ]
  },
  {
   "cell_type": "code",
   "execution_count": 4,
   "metadata": {},
   "outputs": [],
   "source": [
    "# Creating a `Dataset` object\n",
    "dataset = tf.data.Dataset.from_tensor_slices((x_numpy, y_numpy))\n",
    "dataset = dataset.shuffle(10)\n",
    "dataset = dataset.batch(1)\n",
    "dataset = dataset.repeat(1)\n",
    "\n",
    "# * Dataset.repeat() concatenates the datataset without signaling the end of one epoch\n",
    "#   and the beginning of the next one."
   ]
  },
  {
   "cell_type": "code",
   "execution_count": 5,
   "metadata": {},
   "outputs": [
    {
     "name": "stdout",
     "output_type": "stream",
     "text": [
      "x: [[0.35586413 0.5696162  0.04174093 0.62823897]]    y: [1]\n",
      "x: [[0.4634437  0.88714993 0.92268097 0.87789459]]    y: [3]\n",
      "x: [[0.65869466 0.66703969 0.49737143 0.19499465]]    y: [2]\n",
      "x: [[0.3101127  0.17971135 0.91034815 0.32592887]]    y: [1]\n",
      "x: [[0.73344892 0.89501475 0.69507097 0.82132055]]    y: [3]\n",
      "x: [[0.50874734 0.55939823 0.9406282  0.73281027]]    y: [2]\n",
      "x: [[0.02566974 0.98566664 0.56974207 0.40252372]]    y: [1]\n",
      "x: [[0.09437051 0.71640226 0.80308381 0.51236862]]    y: [2]\n",
      "x: [[0.50359572 0.44534517 0.36096608 0.97405061]]    y: [2]\n",
      "x: [[0.04984346 0.47957477 0.87984861 0.0256002 ]]    y: [1]\n"
     ]
    }
   ],
   "source": [
    "for x, y in dataset:\n",
    "    print(f'x: {x}    y: {y}')"
   ]
  },
  {
   "cell_type": "code",
   "execution_count": 6,
   "metadata": {},
   "outputs": [
    {
     "name": "stdout",
     "output_type": "stream",
     "text": [
      "x: [[0.50874734 0.55939823 0.9406282  0.73281027]]    y: [2]\n",
      "x: [[0.4634437  0.88714993 0.92268097 0.87789459]]    y: [3]\n",
      "x: [[0.02566974 0.98566664 0.56974207 0.40252372]]    y: [1]\n",
      "x: [[0.35586413 0.5696162  0.04174093 0.62823897]]    y: [1]\n",
      "x: [[0.73344892 0.89501475 0.69507097 0.82132055]]    y: [3]\n"
     ]
    }
   ],
   "source": [
    "# iterate up to the 5th sample\n",
    "for x, y in dataset.take(5):\n",
    "    print(f'x: {x}    y: {y}')"
   ]
  },
  {
   "cell_type": "markdown",
   "metadata": {},
   "source": [
    "### The `Dataset` object can be created also from TensorFlow tensor objects"
   ]
  },
  {
   "cell_type": "code",
   "execution_count": 7,
   "metadata": {},
   "outputs": [],
   "source": [
    "x_tensor = tf.random.uniform([nsamples, nfeatures])\n",
    "y_tensor = tf.cast(tf.reduce_sum(x_tensor, axis=1), tf.int32)"
   ]
  },
  {
   "cell_type": "code",
   "execution_count": 8,
   "metadata": {},
   "outputs": [],
   "source": [
    "dataset = tf.data.Dataset.from_tensor_slices((x_tensor, y_tensor))\n",
    "dataset = dataset.shuffle(10)\n",
    "dataset = dataset.batch(1)\n",
    "dataset = dataset.repeat(1)"
   ]
  },
  {
   "cell_type": "code",
   "execution_count": 9,
   "metadata": {},
   "outputs": [
    {
     "name": "stdout",
     "output_type": "stream",
     "text": [
      "x: [[0.3642919  0.73825693 0.7308357  0.5296619 ]]    y: [2]\n",
      "x: [[0.0539037  0.30332398 0.08642542 0.9834143 ]]    y: [1]\n",
      "x: [[0.41189802 0.6670884  0.09735096 0.00721169]]    y: [1]\n",
      "x: [[0.5984529  0.30378234 0.6065934  0.04713142]]    y: [1]\n",
      "x: [[0.23360538 0.9726051  0.427588   0.7342621 ]]    y: [2]\n"
     ]
    }
   ],
   "source": [
    "for x, y in dataset.take(5):\n",
    "    print(f'x: {x}    y: {y}')"
   ]
  },
  {
   "cell_type": "markdown",
   "metadata": {},
   "source": [
    "## Adding data transformations to the pipeline\n",
    "\n",
    "Let's say that for our problem it is beneficial to center the features between -0.5 and 0.5. Also, we would like to transform the labels from integers to one-hot encoded. This is can be done with `Dataset`'s method `map`."
   ]
  },
  {
   "cell_type": "code",
   "execution_count": 10,
   "metadata": {},
   "outputs": [],
   "source": [
    "# The following transformations are quite simple and can be done\n",
    "# on a single function, but we will use two different functions\n",
    "# to show how operations can be put together as a pipeline.\n",
    "\n",
    "def center(features, label):\n",
    "    features = features - 0.5\n",
    "    return features, label\n",
    "\n",
    "def make_on_hot_labels(features, label):\n",
    "    return features, tf.one_hot(label, 4)\n",
    "\n",
    "# simpler with `dataset = dataset.filter(lambda f, l: tf.equal(l, 1))`\n",
    "def filter_labels(features, label):\n",
    "    return tf.equal(label, 1)\n",
    "\n",
    "# simpler with `dataset = dataset.filter(lambda f, l: tf.greater(f[0], 0)`\n",
    "def filter_features(features, label):\n",
    "    return tf.greater(features[0], 0)"
   ]
  },
  {
   "cell_type": "code",
   "execution_count": 11,
   "metadata": {},
   "outputs": [],
   "source": [
    "dataset = tf.data.Dataset.from_tensor_slices((x_numpy, y_numpy))\n",
    "dataset = dataset.filter(filter_labels)\n",
    "dataset = dataset.map(center)\n",
    "dataset = dataset.filter(filter_features)\n",
    "dataset = dataset.map(make_on_hot_labels)\n",
    "dataset = dataset.shuffle(150)\n",
    "dataset = dataset.batch(1)\n",
    "dataset = dataset.repeat(1)"
   ]
  },
  {
   "cell_type": "code",
   "execution_count": 12,
   "metadata": {},
   "outputs": [],
   "source": [
    "for x, y in dataset.take(5):\n",
    "    print(f'x: {x}    y: {y}')"
   ]
  },
  {
   "cell_type": "markdown",
   "metadata": {},
   "source": [
    "## Giving names to `Dataset` components"
   ]
  },
  {
   "cell_type": "code",
   "execution_count": 13,
   "metadata": {},
   "outputs": [],
   "source": [
    "dataset = tf.data.Dataset.from_tensor_slices({'features': x_numpy, 'label': y_numpy})"
   ]
  },
  {
   "cell_type": "code",
   "execution_count": 14,
   "metadata": {},
   "outputs": [],
   "source": [
    "def center(sample):\n",
    "    features = sample['features'] - 0.5\n",
    "    label = sample['label']\n",
    "    return {'features': features, 'label': label}"
   ]
  },
  {
   "cell_type": "code",
   "execution_count": 15,
   "metadata": {},
   "outputs": [],
   "source": [
    "dataset = tf.data.Dataset.from_tensor_slices({'features': x_numpy, 'label': y_numpy})\n",
    "dataset = dataset.map(center)\n",
    "dataset = dataset.shuffle(10)\n",
    "dataset = dataset.batch(1)\n",
    "dataset = dataset.repeat(1)"
   ]
  },
  {
   "cell_type": "code",
   "execution_count": 16,
   "metadata": {},
   "outputs": [
    {
     "name": "stdout",
     "output_type": "stream",
     "text": [
      "x: [[-0.0365563   0.38714993  0.42268097  0.37789459]]    y: [3]\n",
      "x: [[0.00874734 0.05939823 0.4406282  0.23281027]]    y: [2]\n",
      "x: [[-0.1898873  -0.32028865  0.41034815 -0.17407113]]    y: [1]\n",
      "x: [[-0.47433026  0.48566664  0.06974207 -0.09747628]]    y: [1]\n",
      "x: [[-0.45015654 -0.02042523  0.37984861 -0.4743998 ]]    y: [1]\n"
     ]
    }
   ],
   "source": [
    "for d in dataset.take(5):\n",
    "    print(f\"x: {d['features']}    y: {d['label']}\")"
   ]
  }
 ],
 "metadata": {
  "kernelspec": {
   "display_name": "tf-multigpu",
   "language": "python",
   "name": "tf-multigpu"
  },
  "language_info": {
   "codemirror_mode": {
    "name": "ipython",
    "version": 3
   },
   "file_extension": ".py",
   "mimetype": "text/x-python",
   "name": "python",
   "nbconvert_exporter": "python",
   "pygments_lexer": "ipython3",
   "version": "3.7.4"
  }
 },
 "nbformat": 4,
 "nbformat_minor": 4
}
