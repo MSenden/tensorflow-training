{
 "cells": [
  {
   "cell_type": "markdown",
   "metadata": {},
   "source": [
    "# Getting started with TensorFlow's `Dataset` API (continuation)\n",
    "\n",
    "In this notebook we will learn how to divide the dataset over the ranks in distributed training."
   ]
  },
  {
   "cell_type": "code",
   "execution_count": 1,
   "metadata": {},
   "outputs": [],
   "source": [
    "import ipcmagic"
   ]
  },
  {
   "cell_type": "code",
   "execution_count": 2,
   "metadata": {},
   "outputs": [
    {
     "name": "stdout",
     "output_type": "stream",
     "text": [
      "IPCluster is ready! (6 seconds)\n"
     ]
    }
   ],
   "source": [
    "%ipcluster start -n 2 --mpi"
   ]
  },
  {
   "cell_type": "code",
   "execution_count": 3,
   "metadata": {},
   "outputs": [],
   "source": [
    "%%px\n",
    "import numpy as np\n",
    "import tensorflow as tf\n",
    "import horovod.tensorflow.keras as hvd"
   ]
  },
  {
   "cell_type": "code",
   "execution_count": 4,
   "metadata": {},
   "outputs": [],
   "source": [
    "%%px\n",
    "hvd.init()"
   ]
  },
  {
   "cell_type": "code",
   "execution_count": 5,
   "metadata": {},
   "outputs": [],
   "source": [
    "%%px\n",
    "def dataset_generator():\n",
    "    \"\"\"A data-producing logic\"\"\"\n",
    "    for i in range(8):\n",
    "        yield (i, i)"
   ]
  },
  {
   "cell_type": "code",
   "execution_count": 6,
   "metadata": {},
   "outputs": [
    {
     "name": "stdout",
     "output_type": "stream",
     "text": [
      "[stdout:0] \n",
      "    x: 0    y: 0\n",
      "    x: 1    y: 1\n",
      "    x: 2    y: 2\n",
      "    x: 3    y: 3\n",
      "    x: 4    y: 4\n",
      "    x: 5    y: 5\n",
      "    x: 6    y: 6\n",
      "    x: 7    y: 7\n",
      "[stdout:1] \n",
      "    x: 0    y: 0\n",
      "    x: 1    y: 1\n",
      "    x: 2    y: 2\n",
      "    x: 3    y: 3\n",
      "    x: 4    y: 4\n",
      "    x: 5    y: 5\n",
      "    x: 6    y: 6\n",
      "    x: 7    y: 7\n"
     ]
    }
   ],
   "source": [
    "%%px\n",
    "for x, y in dataset_generator():\n",
    "    print((f'    x: {x}    y: {y}'))"
   ]
  },
  {
   "cell_type": "code",
   "execution_count": 7,
   "metadata": {},
   "outputs": [
    {
     "name": "stdout",
     "output_type": "stream",
     "text": [
      "[stdout:0] \n",
      "    x: [0 1]    y: [0 1]\n",
      "    x: [4 5]    y: [4 5]\n",
      "    x: [0 1]    y: [0 1]\n",
      "    x: [4 5]    y: [4 5]\n",
      "[stdout:1] \n",
      "    x: [2 3]    y: [2 3]\n",
      "    x: [6 7]    y: [6 7]\n",
      "    x: [2 3]    y: [2 3]\n",
      "    x: [6 7]    y: [6 7]\n"
     ]
    }
   ],
   "source": [
    "%%px\n",
    "# batch after shard or shard after bash?\n",
    "\n",
    "dataset = tf.data.Dataset.from_generator(dataset_generator, output_types=(tf.int32, tf.int32))\n",
    "dataset = dataset.batch(2)\n",
    "dataset = dataset.shard(hvd.size(), hvd.rank())\n",
    "dataset = dataset.repeat(2)\n",
    "\n",
    "for x, y in dataset:\n",
    "    print(f'    x: {x}    y: {y}')"
   ]
  },
  {
   "cell_type": "code",
   "execution_count": 8,
   "metadata": {},
   "outputs": [
    {
     "name": "stdout",
     "output_type": "stream",
     "text": [
      "[stdout:0] \n",
      "    x: [3]    y: [3]\n",
      "    x: [5]    y: [5]\n",
      "    x: [4]    y: [4]\n",
      "    x: [7]    y: [7]\n",
      "    x: [6]    y: [6]\n",
      "    x: [1]    y: [1]\n",
      "    x: [5]    y: [5]\n",
      "    x: [7]    y: [7]\n",
      "[stdout:1] \n",
      "    x: [3]    y: [3]\n",
      "    x: [4]    y: [4]\n",
      "    x: [5]    y: [5]\n",
      "    x: [6]    y: [6]\n",
      "    x: [7]    y: [7]\n",
      "    x: [3]    y: [3]\n",
      "    x: [1]    y: [1]\n",
      "    x: [0]    y: [0]\n"
     ]
    }
   ],
   "source": [
    "%%px\n",
    "# The shuffle is different for every epoch\n",
    "\n",
    "dataset = tf.data.Dataset.from_generator(dataset_generator, output_types=(tf.int32, tf.int32))\n",
    "dataset = dataset.shuffle(8)\n",
    "dataset = dataset.batch(1)\n",
    "dataset = dataset.shard(hvd.size(), hvd.rank())\n",
    "dataset = dataset.repeat(2)\n",
    "\n",
    "for x, y in dataset:\n",
    "    print(f'    x: {x}    y: {y}')"
   ]
  },
  {
   "cell_type": "code",
   "execution_count": 9,
   "metadata": {},
   "outputs": [],
   "source": [
    "%ipcluster stop"
   ]
  }
 ],
 "metadata": {
  "kernelspec": {
   "display_name": "tf-multigpu",
   "language": "python",
   "name": "tf-multigpu"
  },
  "language_info": {
   "codemirror_mode": {
    "name": "ipython",
    "version": 3
   },
   "file_extension": ".py",
   "mimetype": "text/x-python",
   "name": "python",
   "nbconvert_exporter": "python",
   "pygments_lexer": "ipython3",
   "version": "3.7.4"
  }
 },
 "nbformat": 4,
 "nbformat_minor": 4
}
