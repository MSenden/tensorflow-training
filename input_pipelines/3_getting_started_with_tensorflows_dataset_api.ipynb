{
 "cells": [
  {
   "cell_type": "markdown",
   "metadata": {},
   "source": [
    "# Getting started with TensorFlow's Dataset API (continuation)\n",
    "\n",
    "In this notebook we will contruct `Dataset` objects from user-defined python generators."
   ]
  },
  {
   "cell_type": "code",
   "execution_count": 1,
   "metadata": {},
   "outputs": [],
   "source": [
    "import numpy as np\n",
    "import tensorflow as tf"
   ]
  },
  {
   "cell_type": "code",
   "execution_count": 2,
   "metadata": {
    "scrolled": true
   },
   "outputs": [
    {
     "data": {
      "text/plain": [
       "'2.3.0'"
      ]
     },
     "execution_count": 2,
     "metadata": {},
     "output_type": "execute_result"
    }
   ],
   "source": [
    "tf.version.VERSION"
   ]
  },
  {
   "cell_type": "code",
   "execution_count": 23,
   "metadata": {},
   "outputs": [],
   "source": [
    "def dataset_generator():\n",
    "    \"\"\"A data-producing logic\"\"\"\n",
    "    for i in range(5):\n",
    "        yield (np.random.random([4]), i)"
   ]
  },
  {
   "cell_type": "code",
   "execution_count": 24,
   "metadata": {},
   "outputs": [
    {
     "name": "stdout",
     "output_type": "stream",
     "text": [
      "(array([0.93543086, 0.79028275, 0.30008644, 0.79888733]), 0)\n",
      "(array([0.23012207, 0.87688122, 0.13276602, 0.22290542]), 1)\n",
      "(array([0.83520467, 0.34035547, 0.32658274, 0.32058185]), 2)\n",
      "(array([0.55204264, 0.44405763, 0.98990695, 0.06689118]), 3)\n",
      "(array([0.44074843, 0.47680804, 0.22460333, 0.27939454]), 4)\n"
     ]
    }
   ],
   "source": [
    "for i in dataset_generator():\n",
    "    print(i)"
   ]
  },
  {
   "cell_type": "code",
   "execution_count": 26,
   "metadata": {},
   "outputs": [],
   "source": [
    "dataset = tf.data.Dataset.from_generator(dataset_generator, output_types=(tf.float32, tf.int32))"
   ]
  },
  {
   "cell_type": "code",
   "execution_count": 29,
   "metadata": {},
   "outputs": [
    {
     "name": "stdout",
     "output_type": "stream",
     "text": [
      "x: [0.23803176 0.30944932 0.6542182  0.9589151 ]    y: 0\n",
      "x: [0.31767222 0.15838544 0.94264376 0.85219955]    y: 1\n",
      "x: [0.00120892 0.7665016  0.53363156 0.04406581]    y: 2\n",
      "x: [0.8155043  0.17091843 0.4040227  0.51903886]    y: 3\n",
      "x: [9.9333680e-05 5.7572919e-01 8.4651721e-01 2.5559947e-01]    y: 4\n"
     ]
    }
   ],
   "source": [
    "for x, y in dataset:\n",
    "    print(f'x: {x}    y: {y}')"
   ]
  },
  {
   "cell_type": "code",
   "execution_count": 30,
   "metadata": {},
   "outputs": [],
   "source": [
    "def dataset_generator():\n",
    "    \"\"\"A data-producing logic\"\"\"\n",
    "    for i in range(5):\n",
    "        yield {'features': np.random.random([4]), 'label': i}"
   ]
  },
  {
   "cell_type": "code",
   "execution_count": 35,
   "metadata": {},
   "outputs": [],
   "source": [
    "dataset = tf.data.Dataset.from_generator(dataset_generator, output_types=({'features': tf.float32,\n",
    "                                                                           'label':tf.int32}))\n",
    "dataset = dataset.repeat(2)"
   ]
  },
  {
   "cell_type": "code",
   "execution_count": 36,
   "metadata": {},
   "outputs": [
    {
     "name": "stdout",
     "output_type": "stream",
     "text": [
      "x: [0.5871347  0.15358329 0.6902823  0.12933145]    y: 0\n",
      "x: [0.8722853 0.4654394 0.8680336 0.9532194]    y: 1\n",
      "x: [0.4417006  0.16007094 0.37262976 0.23263507]    y: 2\n",
      "x: [0.34699956 0.35316643 0.07121193 0.87599456]    y: 3\n",
      "x: [0.83371764 0.17694283 0.38864917 0.3720382 ]    y: 4\n",
      "x: [0.8510982 0.4970539 0.8101627 0.9634722]    y: 0\n",
      "x: [0.51277435 0.7549656  0.04172024 0.04326453]    y: 1\n",
      "x: [0.12037944 0.42405838 0.00157191 0.37740716]    y: 2\n",
      "x: [0.2490515  0.6715257  0.75464946 0.7888735 ]    y: 3\n",
      "x: [0.08564515 0.9242153  0.4854496  0.3513795 ]    y: 4\n"
     ]
    }
   ],
   "source": [
    "for d in dataset:\n",
    "    print(f\"x: {d['features']}    y: {d['label']}\")"
   ]
  }
 ],
 "metadata": {
  "kernelspec": {
   "display_name": "tf-multigpu",
   "language": "python",
   "name": "tf-multigpu"
  },
  "language_info": {
   "codemirror_mode": {
    "name": "ipython",
    "version": 3
   },
   "file_extension": ".py",
   "mimetype": "text/x-python",
   "name": "python",
   "nbconvert_exporter": "python",
   "pygments_lexer": "ipython3",
   "version": "3.7.4"
  }
 },
 "nbformat": 4,
 "nbformat_minor": 4
}
