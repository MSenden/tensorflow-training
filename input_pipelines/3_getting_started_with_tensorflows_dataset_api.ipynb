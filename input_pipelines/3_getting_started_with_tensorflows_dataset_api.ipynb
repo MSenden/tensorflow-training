{
 "cells": [
  {
   "cell_type": "markdown",
   "metadata": {},
   "source": [
    "# Getting started with TensorFlow's Dataset API (continuation)\n",
    "\n",
    "In this notebook we will create `Dataset` objects from user-defined python generators."
   ]
  },
  {
   "cell_type": "code",
   "execution_count": 1,
   "metadata": {},
   "outputs": [],
   "source": [
    "import numpy as np\n",
    "import tensorflow as tf"
   ]
  },
  {
   "cell_type": "code",
   "execution_count": 2,
   "metadata": {},
   "outputs": [
    {
     "data": {
      "text/plain": [
       "'2.3.0'"
      ]
     },
     "execution_count": 2,
     "metadata": {},
     "output_type": "execute_result"
    }
   ],
   "source": [
    "tf.version.VERSION"
   ]
  },
  {
   "cell_type": "code",
   "execution_count": 3,
   "metadata": {},
   "outputs": [],
   "source": [
    "def dataset_generator():\n",
    "    \"\"\"A data-producing logic\"\"\"\n",
    "    for i in range(5):\n",
    "        yield np.random.random([4]), i"
   ]
  },
  {
   "cell_type": "code",
   "execution_count": 4,
   "metadata": {},
   "outputs": [
    {
     "name": "stdout",
     "output_type": "stream",
     "text": [
      "(array([0.87456716, 0.23032953, 0.69284068, 0.54633986]), 0)\n",
      "(array([0.87021991, 0.24472265, 0.91690982, 0.46777818]), 1)\n",
      "(array([0.13773718, 0.62813327, 0.6790999 , 0.8163329 ]), 2)\n",
      "(array([0.70663585, 0.74519989, 0.13937979, 0.22368679]), 3)\n",
      "(array([0.18629237, 0.08442036, 0.91339327, 0.99652987]), 4)\n"
     ]
    }
   ],
   "source": [
    "for i in dataset_generator():\n",
    "    print(i)"
   ]
  },
  {
   "cell_type": "code",
   "execution_count": 5,
   "metadata": {},
   "outputs": [],
   "source": [
    "dataset = tf.data.Dataset.from_generator(dataset_generator, output_types=(tf.float32, tf.int32))"
   ]
  },
  {
   "cell_type": "code",
   "execution_count": 6,
   "metadata": {},
   "outputs": [
    {
     "name": "stdout",
     "output_type": "stream",
     "text": [
      "x: [0.9531401  0.1637671  0.43931857 0.03971878]    y: 0\n",
      "x: [0.37731084 0.4367413  0.5265609  0.81698495]    y: 1\n",
      "x: [0.48564202 0.74603015 0.28086534 0.5849274 ]    y: 2\n",
      "x: [0.780176   0.7990948  0.36120576 0.0810954 ]    y: 3\n",
      "x: [0.1670886  0.04537757 0.9082585  0.79098845]    y: 4\n"
     ]
    }
   ],
   "source": [
    "for x, y in dataset:\n",
    "    print(f'x: {x}    y: {y}')"
   ]
  },
  {
   "cell_type": "code",
   "execution_count": 7,
   "metadata": {},
   "outputs": [],
   "source": [
    "def dataset_generator():\n",
    "    \"\"\"A data-producing logic\"\"\"\n",
    "    for i in range(5):\n",
    "        yield {'features': np.random.random([4]), 'label': i}"
   ]
  },
  {
   "cell_type": "code",
   "execution_count": 8,
   "metadata": {},
   "outputs": [],
   "source": [
    "dataset = tf.data.Dataset.from_generator(dataset_generator, output_types=({'features': tf.float32,\n",
    "                                                                           'label':tf.int32}))"
   ]
  },
  {
   "cell_type": "code",
   "execution_count": 9,
   "metadata": {},
   "outputs": [
    {
     "name": "stdout",
     "output_type": "stream",
     "text": [
      "x: [0.5607467  0.99109644 0.68711835 0.57447654]    y: 0\n",
      "x: [0.7089115  0.1641704  0.5622395  0.29164907]    y: 1\n",
      "x: [0.31427646 0.01060347 0.7128158  0.6603938 ]    y: 2\n",
      "x: [0.34966183 0.18073791 0.5192959  0.6736021 ]    y: 3\n",
      "x: [0.21184993 0.5777269  0.99364007 0.7721713 ]    y: 4\n"
     ]
    }
   ],
   "source": [
    "for d in dataset:\n",
    "    print(f\"x: {d['features']}    y: {d['label']}\")"
   ]
  }
 ],
 "metadata": {
  "kernelspec": {
   "display_name": "tf-multigpu",
   "language": "python",
   "name": "tf-multigpu"
  },
  "language_info": {
   "codemirror_mode": {
    "name": "ipython",
    "version": 3
   },
   "file_extension": ".py",
   "mimetype": "text/x-python",
   "name": "python",
   "nbconvert_exporter": "python",
   "pygments_lexer": "ipython3",
   "version": "3.7.4"
  }
 },
 "nbformat": 4,
 "nbformat_minor": 4
}
