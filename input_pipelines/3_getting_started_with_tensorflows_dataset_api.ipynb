{
 "cells": [
  {
   "cell_type": "markdown",
   "metadata": {},
   "source": [
    "# Getting started with TensorFlow's Dataset API (continuation)\n",
    "\n",
    "In this notebook we will create `Dataset` objects from user-defined python generators."
   ]
  },
  {
   "cell_type": "code",
   "execution_count": 1,
   "metadata": {},
   "outputs": [],
   "source": [
    "import numpy as np\n",
    "import tensorflow as tf"
   ]
  },
  {
   "cell_type": "code",
   "execution_count": 2,
   "metadata": {
    "scrolled": true
   },
   "outputs": [
    {
     "data": {
      "text/plain": [
       "'2.3.0'"
      ]
     },
     "execution_count": 2,
     "metadata": {},
     "output_type": "execute_result"
    }
   ],
   "source": [
    "tf.version.VERSION"
   ]
  },
  {
   "cell_type": "code",
   "execution_count": 6,
   "metadata": {},
   "outputs": [],
   "source": [
    "def dataset_generator():\n",
    "    \"\"\"A data-producing logic\"\"\"\n",
    "    for i in range(5):\n",
    "        yield np.random.random([4]), i"
   ]
  },
  {
   "cell_type": "code",
   "execution_count": 7,
   "metadata": {},
   "outputs": [
    {
     "name": "stdout",
     "output_type": "stream",
     "text": [
      "(array([0.20434366, 0.93957865, 0.72931604, 0.28641238]), 0)\n",
      "(array([0.51670198, 0.18447463, 0.37133608, 0.65037608]), 1)\n",
      "(array([0.96519324, 0.17997443, 0.05979529, 0.35789654]), 2)\n",
      "(array([0.63572866, 0.84381697, 0.60400298, 0.91774899]), 3)\n",
      "(array([0.77901035, 0.87519005, 0.72786191, 0.01469873]), 4)\n"
     ]
    }
   ],
   "source": [
    "for i in dataset_generator():\n",
    "    print(i)"
   ]
  },
  {
   "cell_type": "code",
   "execution_count": 8,
   "metadata": {},
   "outputs": [],
   "source": [
    "dataset = tf.data.Dataset.from_generator(dataset_generator, output_types=(tf.float32, tf.int32))"
   ]
  },
  {
   "cell_type": "code",
   "execution_count": 9,
   "metadata": {},
   "outputs": [
    {
     "name": "stdout",
     "output_type": "stream",
     "text": [
      "x: [0.23497358 0.90216744 0.33594283 0.64630884]    y: 0\n",
      "x: [0.05361236 0.18342438 0.28807425 0.22552526]    y: 1\n",
      "x: [0.694196   0.4117361  0.8408844  0.28330523]    y: 2\n",
      "x: [0.21889393 0.7696549  0.1720058  0.43824056]    y: 3\n",
      "x: [0.4105971  0.7061228  0.03912476 0.5294592 ]    y: 4\n"
     ]
    }
   ],
   "source": [
    "for x, y in dataset:\n",
    "    print(f'x: {x}    y: {y}')"
   ]
  },
  {
   "cell_type": "code",
   "execution_count": 10,
   "metadata": {},
   "outputs": [],
   "source": [
    "def dataset_generator():\n",
    "    \"\"\"A data-producing logic\"\"\"\n",
    "    for i in range(5):\n",
    "        yield {'features': np.random.random([4]), 'label': i}"
   ]
  },
  {
   "cell_type": "code",
   "execution_count": 13,
   "metadata": {},
   "outputs": [],
   "source": [
    "dataset = tf.data.Dataset.from_generator(dataset_generator, output_types=({'features': tf.float32,\n",
    "                                                                           'label':tf.int32}))"
   ]
  },
  {
   "cell_type": "code",
   "execution_count": 14,
   "metadata": {},
   "outputs": [
    {
     "name": "stdout",
     "output_type": "stream",
     "text": [
      "x: [0.47586858 0.926668   0.28587663 0.3494693 ]    y: 0\n",
      "x: [0.6354029  0.10374387 0.02920051 0.8872098 ]    y: 1\n",
      "x: [0.7966424  0.00458661 0.09531031 0.8150314 ]    y: 2\n",
      "x: [0.8333806  0.33251214 0.66171455 0.30316237]    y: 3\n",
      "x: [0.53847075 0.07982261 0.94400954 0.5500703 ]    y: 4\n"
     ]
    }
   ],
   "source": [
    "for d in dataset:\n",
    "    print(f\"x: {d['features']}    y: {d['label']}\")"
   ]
  }
 ],
 "metadata": {
  "kernelspec": {
   "display_name": "tf-multigpu",
   "language": "python",
   "name": "tf-multigpu"
  },
  "language_info": {
   "codemirror_mode": {
    "name": "ipython",
    "version": 3
   },
   "file_extension": ".py",
   "mimetype": "text/x-python",
   "name": "python",
   "nbconvert_exporter": "python",
   "pygments_lexer": "ipython3",
   "version": "3.7.4"
  }
 },
 "nbformat": 4,
 "nbformat_minor": 4
}
