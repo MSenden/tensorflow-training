{
 "cells": [
  {
   "cell_type": "code",
   "execution_count": 1,
   "metadata": {},
   "outputs": [],
   "source": [
    "import ipcmagic"
   ]
  },
  {
   "cell_type": "code",
   "execution_count": 2,
   "metadata": {},
   "outputs": [
    {
     "name": "stdout",
     "output_type": "stream",
     "text": [
      "IPCluster is ready! (6 seconds)\n"
     ]
    }
   ],
   "source": [
    "%ipcluster start -n 2 --mpi"
   ]
  },
  {
   "cell_type": "code",
   "execution_count": 3,
   "metadata": {},
   "outputs": [],
   "source": [
    "%%px\n",
    "import os\n",
    "import math\n",
    "import tensorflow as tf\n",
    "from datetime import datetime\n",
    "from tensorflow import keras"
   ]
  },
  {
   "cell_type": "code",
   "execution_count": 4,
   "metadata": {},
   "outputs": [],
   "source": [
    "%%px\n",
    "strategy = tf.distribute.experimental.MultiWorkerMirroredStrategy(\n",
    "    cluster_resolver=tf.distribute.cluster_resolver.SlurmClusterResolver(),\n",
    "    communication=tf.distribute.experimental.CollectiveCommunication.NCCL,\n",
    ")\n",
    "\n",
    "@tf.function(experimental_compile=True)\n",
    "def decode(serialized_example):\n",
    "    \"\"\"Parses an image and label from the given `serialized_example`.\"\"\"\n",
    "    features = tf.io.parse_single_example(\n",
    "        serialized_example,\n",
    "        features={\n",
    "            'image_raw': tf.io.FixedLenFeature([], tf.string),\n",
    "            'label': tf.io.FixedLenFeature([], tf.int64),\n",
    "        })\n",
    "    label = tf.cast(features['label'], tf.int32)\n",
    "    image = tf.io.decode_raw(features['image_raw'], tf.uint8)\n",
    "    image = tf.reshape(image, (28, 28, 1))\n",
    "    image = tf.cast(image, tf.float32) * (1. / 255) - 0.5\n",
    "    return image, label\n",
    "\n",
    "@tf.function(experimental_compile=True)\n",
    "def normalize(image, label):\n",
    "    \"\"\"Convert `image` from [0, 255] -> [-0.5, 0.5] floats.\"\"\"\n",
    "    image = tf.cast(image, tf.float32) * (1. / 255) - 0.5\n",
    "    return image, label\n",
    "\n",
    "\n",
    "def get_train_set(filename, batch_size):\n",
    "    options = tf.data.Options()\n",
    "    options.experimental_distribute.auto_shard_policy = tf.data.experimental.AutoShardPolicy.DATA\n",
    "\n",
    "    dataset = tf.data.TFRecordDataset(filename)\n",
    "    dataset = dataset.map(decode)\n",
    "    # dataset = dataset.shuffle(128)\n",
    "    dataset = dataset.batch(batch_size, drop_remainder=True)\n",
    "    # dataset = dataset.map(normalize)\n",
    "    dataset = dataset.with_options(options)\n",
    "    return dataset\n",
    "\n",
    "def get_val_set(filename, batch_size):\n",
    "    options = tf.data.Options()\n",
    "    options.experimental_distribute.auto_shard_policy = tf.data.experimental.AutoShardPolicy.DATA\n",
    "\n",
    "    dataset = tf.data.TFRecordDataset(filename)\n",
    "    dataset = dataset.map(decode)\n",
    "    dataset = dataset.batch(batch_size, drop_remainder=True)\n",
    "    # dataset = dataset.map(normalize)\n",
    "    dataset = dataset.with_options(options)\n",
    "    return dataset\n",
    "\n",
    "with strategy.scope():\n",
    "    model = keras.Sequential([keras.layers.Conv2D(32, kernel_size=(3, 3),\n",
    "                                                 activation='relu',\n",
    "                                                 input_shape=(28, 28, 1)),\n",
    "                              keras.layers.Conv2D(64, (3, 3), activation='relu'),\n",
    "                              keras.layers.MaxPooling2D(pool_size=(2, 2)),\n",
    "                              keras.layers.Dropout(0.25),\n",
    "                              keras.layers.Flatten(),\n",
    "                              keras.layers.Dense(128, activation='relu'),\n",
    "                              keras.layers.Dropout(0.5),\n",
    "                              keras.layers.Dense(10, activation='softmax')])\n",
    "\n",
    "    opt = keras.optimizers.Adam(0.001)\n",
    "\n",
    "    model.compile(optimizer=opt,\n",
    "                  loss='sparse_categorical_crossentropy',\n",
    "                  metrics=['accuracy'])\n",
    "\n",
    "tb_callback = tf.keras.callbacks.TensorBoard(\n",
    "    log_dir = os.path.join('cnn_tfdistr_logs',\n",
    "                           datetime.now().strftime(\"%d-%H%M\")),\n",
    "    histogram_freq = 1,\n",
    "    profile_batch = '100,130')"
   ]
  },
  {
   "cell_type": "code",
   "execution_count": 5,
   "metadata": {},
   "outputs": [
    {
     "name": "stdout",
     "output_type": "stream",
     "text": [
      "[stdout:0] \n",
      "Epoch 1/2\n",
      "234/234 - 5s - loss: 0.4175 - accuracy: 0.8730 - val_loss: 0.1248 - val_accuracy: 0.9579\n",
      "Epoch 2/2\n",
      "234/234 - 3s - loss: 0.1465 - accuracy: 0.9571 - val_loss: 0.0797 - val_accuracy: 0.9736\n",
      "[stdout:1] \n",
      "Epoch 1/2\n",
      "234/234 - 5s - loss: 0.4175 - accuracy: 0.8730 - val_loss: 0.1248 - val_accuracy: 0.9579\n",
      "Epoch 2/2\n",
      "234/234 - 3s - loss: 0.1465 - accuracy: 0.9571 - val_loss: 0.0797 - val_accuracy: 0.9736\n"
     ]
    }
   ],
   "source": [
    "%%px\n",
    "train_size = 60000\n",
    "val_size = 10000\n",
    "batch_size_per_worker = 64\n",
    "num_workers = int(os.environ['SLURM_NNODES'])\n",
    "batch_size = batch_size_per_worker * num_workers\n",
    "num_epochs = 2\n",
    "\n",
    "fit = model.fit(get_train_set('../tfrecords/train.tfrecords', batch_size),\n",
    "                validation_data=get_val_set('../tfrecords/test.tfrecords', batch_size),\n",
    "                epochs=num_epochs,\n",
    "                verbose=2,\n",
    "                steps_per_epoch=train_size // batch_size // num_workers,\n",
    "                validation_steps=val_size // batch_size // num_workers,\n",
    "                callbacks=[tb_callback])"
   ]
  },
  {
   "cell_type": "markdown",
   "metadata": {},
   "source": [
    "(!) `tf.distributed` adds automatically `dataset = strategy.experimental_distribute_dataset(dataset)` to the dataset."
   ]
  },
  {
   "cell_type": "code",
   "execution_count": 6,
   "metadata": {},
   "outputs": [],
   "source": [
    "%load_ext tensorboard"
   ]
  },
  {
   "cell_type": "code",
   "execution_count": 7,
   "metadata": {},
   "outputs": [
    {
     "data": {
      "text/html": [
       "\n",
       "      <iframe id=\"tensorboard-frame-db30951a5cb4f9b2\" width=\"100%\" height=\"800\" frameborder=\"0\">\n",
       "      </iframe>\n",
       "      <script>\n",
       "        (function() {\n",
       "          const frame = document.getElementById(\"tensorboard-frame-db30951a5cb4f9b2\");\n",
       "          const url = new URL(\"https://sarafael.jupyter.cscs.ch/hub/user-redirect/proxy/6008/\", window.location);\n",
       "          const port = 0;\n",
       "          if (port) {\n",
       "            url.port = port;\n",
       "          }\n",
       "          frame.src = url;\n",
       "        })();\n",
       "      </script>\n",
       "    "
      ],
      "text/plain": [
       "<IPython.core.display.HTML object>"
      ]
     },
     "metadata": {},
     "output_type": "display_data"
    }
   ],
   "source": [
    "%tensorboard --logdir=cnn_tfdistr_logs"
   ]
  },
  {
   "cell_type": "code",
   "execution_count": 8,
   "metadata": {},
   "outputs": [],
   "source": [
    "%ipcluster stop"
   ]
  }
 ],
 "metadata": {
  "kernelspec": {
   "display_name": "tf-multigpu",
   "language": "python",
   "name": "tf-multigpu"
  },
  "language_info": {
   "codemirror_mode": {
    "name": "ipython",
    "version": 3
   },
   "file_extension": ".py",
   "mimetype": "text/x-python",
   "name": "python",
   "nbconvert_exporter": "python",
   "pygments_lexer": "ipython3",
   "version": "3.7.4"
  }
 },
 "nbformat": 4,
 "nbformat_minor": 4
}
