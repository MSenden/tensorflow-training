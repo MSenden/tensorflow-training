{
 "cells": [
  {
   "cell_type": "code",
   "execution_count": 1,
   "metadata": {},
   "outputs": [],
   "source": [
    "import os\n",
    "import tensorflow as tf\n",
    "from datetime import datetime\n",
    "from tensorflow import keras"
   ]
  },
  {
   "cell_type": "code",
   "execution_count": 2,
   "metadata": {},
   "outputs": [],
   "source": [
    "BATCH_SIZE = 64\n",
    "NUM_EPOCS = 4"
   ]
  },
  {
   "cell_type": "code",
   "execution_count": 3,
   "metadata": {},
   "outputs": [],
   "source": [
    "def decode(serialized_example):\n",
    "    \"\"\"Parses an image and label from the given `serialized_example`.\"\"\"\n",
    "    features = tf.io.parse_single_example(\n",
    "        serialized_example,\n",
    "        features={\n",
    "            'image_raw': tf.io.FixedLenFeature([], tf.string),\n",
    "            'label': tf.io.FixedLenFeature([], tf.int64),\n",
    "        })\n",
    "    label = tf.cast(features['label'], tf.int32)\n",
    "    image = tf.io.decode_raw(features['image_raw'], tf.uint8)\n",
    "    image = tf.reshape(image, (28, 28, 1))\n",
    "    return image, label"
   ]
  },
  {
   "cell_type": "code",
   "execution_count": 4,
   "metadata": {},
   "outputs": [],
   "source": [
    "def normalize(image, label):\n",
    "    \"\"\"Convert `image` from [0, 255] -> [-0.5, 0.5] floats.\"\"\"\n",
    "    image = tf.cast(image, tf.float32) * (1. / 255) - 0.5\n",
    "    return image, label"
   ]
  },
  {
   "cell_type": "code",
   "execution_count": 5,
   "metadata": {},
   "outputs": [],
   "source": [
    "def get_dataset(filename, batch_size=BATCH_SIZE, epochs=NUM_EPOCS):\n",
    "    dataset = tf.data.TFRecordDataset(filename)\n",
    "    dataset = dataset.map(decode)\n",
    "    # dataset = dataset.shuffle(128)\n",
    "    dataset = dataset.batch(batch_size)\n",
    "    dataset = dataset.map(normalize)\n",
    "    # dataset = dataset.repeat(epochs)\n",
    "    return dataset"
   ]
  },
  {
   "cell_type": "code",
   "execution_count": 6,
   "metadata": {},
   "outputs": [],
   "source": [
    "model = keras.Sequential([keras.layers.Conv2D(32, kernel_size=(3, 3),\n",
    "                                             activation='relu',\n",
    "                                             input_shape=(28, 28, 1)),\n",
    "                          keras.layers.Conv2D(64, (3, 3), activation='relu'),\n",
    "                          keras.layers.MaxPooling2D(pool_size=(2, 2)),\n",
    "                          keras.layers.Dropout(0.25),\n",
    "                          keras.layers.Flatten(),\n",
    "                          keras.layers.Dense(128, activation='relu'),\n",
    "                          keras.layers.Dropout(0.5),\n",
    "                          keras.layers.Dense(10, activation='softmax')])\n",
    "\n",
    "model.compile(optimizer=keras.optimizers.Adam(0.001),\n",
    "              loss='sparse_categorical_crossentropy',\n",
    "              metrics=['accuracy'])"
   ]
  },
  {
   "cell_type": "code",
   "execution_count": 7,
   "metadata": {},
   "outputs": [],
   "source": [
    "tb_callback = tf.keras.callbacks.TensorBoard(log_dir = os.path.join('cnn_logs', datetime.now().strftime(\"%d-%H%M\")),\n",
    "                                             histogram_freq = 1,\n",
    "                                             profile_batch = '700,730')"
   ]
  },
  {
   "cell_type": "code",
   "execution_count": 8,
   "metadata": {},
   "outputs": [
    {
     "name": "stdout",
     "output_type": "stream",
     "text": [
      "Epoch 1/4\n",
      "    729/Unknown - 2s 3ms/step - loss: 0.2859 - accuracy: 0.9123WARNING:tensorflow:From /apps/daint/UES/6.0.UP04/sandboxes/sarafael/miniconda-tf2.3/lib/python3.7/site-packages/tensorflow/python/ops/summary_ops_v2.py:1277: stop (from tensorflow.python.eager.profiler) is deprecated and will be removed after 2020-07-01.\n",
      "Instructions for updating:\n",
      "use `tf.profiler.experimental.stop` instead.\n",
      "938/938 [==============================] - 4s 4ms/step - loss: 0.2481 - accuracy: 0.9243 - val_loss: 0.0569 - val_accuracy: 0.9818\n",
      "Epoch 2/4\n",
      "938/938 [==============================] - 3s 4ms/step - loss: 0.0955 - accuracy: 0.9720 - val_loss: 0.0437 - val_accuracy: 0.9855\n",
      "Epoch 3/4\n",
      "938/938 [==============================] - 3s 4ms/step - loss: 0.0719 - accuracy: 0.9784 - val_loss: 0.0376 - val_accuracy: 0.9877\n",
      "Epoch 4/4\n",
      "938/938 [==============================] - 3s 4ms/step - loss: 0.0559 - accuracy: 0.9833 - val_loss: 0.0350 - val_accuracy: 0.9888\n"
     ]
    }
   ],
   "source": [
    "fit = model.fit(get_dataset('../tfrecords/train.tfrecords'),\n",
    "                validation_data=get_dataset('../tfrecords/test.tfrecords', epochs=1),\n",
    "                epochs=NUM_EPOCS,\n",
    "                callbacks=[tb_callback])"
   ]
  },
  {
   "cell_type": "code",
   "execution_count": 9,
   "metadata": {},
   "outputs": [],
   "source": [
    "%load_ext tensorboard"
   ]
  },
  {
   "cell_type": "code",
   "execution_count": 10,
   "metadata": {},
   "outputs": [
    {
     "data": {
      "text/html": [
       "\n",
       "        <iframe\n",
       "            width=\"100%\"\n",
       "            height=\"800\"\n",
       "            src=\"https://sarafael.jupyter.cscs.ch/hub/user-redirect/proxy/6006/#scalars\"\n",
       "            frameborder=\"0\"\n",
       "            allowfullscreen\n",
       "        ></iframe>\n",
       "        "
      ],
      "text/plain": [
       "<IPython.lib.display.IFrame at 0x2aab3ff5d7d0>"
      ]
     },
     "metadata": {},
     "output_type": "display_data"
    }
   ],
   "source": [
    "%tensorboard --logdir=cnn_logs"
   ]
  }
 ],
 "metadata": {
  "kernelspec": {
   "display_name": "tf-multigpu",
   "language": "python",
   "name": "tf-multigpu"
  },
  "language_info": {
   "codemirror_mode": {
    "name": "ipython",
    "version": 3
   },
   "file_extension": ".py",
   "mimetype": "text/x-python",
   "name": "python",
   "nbconvert_exporter": "python",
   "pygments_lexer": "ipython3",
   "version": "3.7.4"
  }
 },
 "nbformat": 4,
 "nbformat_minor": 4
}
