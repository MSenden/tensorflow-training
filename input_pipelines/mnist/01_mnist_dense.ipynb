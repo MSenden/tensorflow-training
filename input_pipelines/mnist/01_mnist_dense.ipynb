{
 "cells": [
  {
   "cell_type": "code",
   "execution_count": 1,
   "metadata": {},
   "outputs": [],
   "source": [
    "import os\n",
    "import tensorflow as tf\n",
    "from datetime import datetime\n",
    "from tensorflow import keras\n",
    "from tb_cscs import tensorboard"
   ]
  },
  {
   "cell_type": "code",
   "execution_count": 63,
   "metadata": {},
   "outputs": [],
   "source": [
    "BATCH_SIZE = 128\n",
    "NUM_EPOCS = 4"
   ]
  },
  {
   "cell_type": "code",
   "execution_count": 71,
   "metadata": {},
   "outputs": [],
   "source": [
    "def decode(serialized_example):\n",
    "    \"\"\"Parses an image and label from the given `serialized_example`.\"\"\"\n",
    "    features = tf.io.parse_single_example(\n",
    "        serialized_example,\n",
    "        features={\n",
    "            'image_raw': tf.io.FixedLenFeature([], tf.string),\n",
    "            'label': tf.io.FixedLenFeature([], tf.int64),\n",
    "        })\n",
    "    label = tf.cast(features['label'], tf.int32)\n",
    "    image = tf.io.decode_raw(features['image_raw'], tf.uint8)\n",
    "    return image, label"
   ]
  },
  {
   "cell_type": "code",
   "execution_count": 72,
   "metadata": {},
   "outputs": [],
   "source": [
    "def normalize(image, label):\n",
    "    \"\"\"Convert `image` from [0, 255] -> [-0.5, 0.5] floats.\"\"\"\n",
    "    image = tf.cast(image, tf.float32) * (1. / 255) - 0.5\n",
    "    return image, label"
   ]
  },
  {
   "cell_type": "code",
   "execution_count": 80,
   "metadata": {},
   "outputs": [],
   "source": [
    "def get_dataset(filename, batch_size=BATCH_SIZE, epochs=NUM_EPOCS):\n",
    "    dataset = tf.data.TFRecordDataset(filename)\n",
    "    dataset = dataset.map(decode)\n",
    "    # dataset = dataset.map(normalize)\n",
    "    dataset = dataset.shuffle(6000)\n",
    "    # dataset = dataset.batch(batch_size)\n",
    "    dataset = dataset.map(normalize)\n",
    "    dataset = dataset.prefetch(tf.data.experimental.AUTOTUNE)\n",
    "    dataset = dataset.repeat(epochs)\n",
    "    return dataset"
   ]
  },
  {
   "cell_type": "code",
   "execution_count": 81,
   "metadata": {},
   "outputs": [],
   "source": [
    "model = keras.Sequential([\n",
    "    keras.layers.Flatten(input_shape=(784,)),\n",
    "    keras.layers.Dense(128, activation=tf.nn.relu),\n",
    "    keras.layers.Dense(10, activation=tf.nn.softmax)\n",
    "])\n",
    "\n",
    "model.compile(optimizer=keras.optimizers.Adam(0.001),\n",
    "              loss='sparse_categorical_crossentropy',\n",
    "              metrics=['accuracy'])"
   ]
  },
  {
   "cell_type": "code",
   "execution_count": 82,
   "metadata": {},
   "outputs": [],
   "source": [
    "tb_callback = tf.keras.callbacks.TensorBoard(log_dir = os.path.join('dense_logs', datetime.now().strftime(\"%d-%H%M\")),\n",
    "                                             histogram_freq = 1,\n",
    "                                             profile_batch = '700,730')"
   ]
  },
  {
   "cell_type": "code",
   "execution_count": 83,
   "metadata": {},
   "outputs": [
    {
     "name": "stdout",
     "output_type": "stream",
     "text": [
      "Epoch 1/4\n",
      "1876/1876 [==============================] - 9s 5ms/step - loss: 0.2511 - accuracy: 0.9274 - val_loss: 0.1310 - val_accuracy: 0.9604\n",
      "Epoch 2/4\n",
      "1876/1876 [==============================] - 6s 3ms/step - loss: 0.0993 - accuracy: 0.9710 - val_loss: 0.0988 - val_accuracy: 0.9696\n",
      "Epoch 3/4\n",
      "1876/1876 [==============================] - 6s 3ms/step - loss: 0.0639 - accuracy: 0.9807 - val_loss: 0.0834 - val_accuracy: 0.9753\n",
      "Epoch 4/4\n",
      "1876/1876 [==============================] - 6s 3ms/step - loss: 0.0447 - accuracy: 0.9864 - val_loss: 0.0838 - val_accuracy: 0.9772\n"
     ]
    }
   ],
   "source": [
    "fit = model.fit(get_dataset('../input_pipelines/tfrecords/train.tfrecords'),\n",
    "                validation_data=get_dataset('../input_pipelines/tfrecords/test.tfrecords', epochs=1),\n",
    "                epochs=NUM_EPOCS,\n",
    "                callbacks=[tb_callback])"
   ]
  },
  {
   "cell_type": "code",
   "execution_count": 8,
   "metadata": {},
   "outputs": [],
   "source": [
    "%load_ext tensorboard"
   ]
  },
  {
   "cell_type": "code",
   "execution_count": 84,
   "metadata": {},
   "outputs": [
    {
     "data": {
      "text/plain": [
       "Reusing TensorBoard on port 6007 (pid 17972), started 0:53:56 ago. (Use '!kill 17972' to kill it.)"
      ]
     },
     "metadata": {},
     "output_type": "display_data"
    },
    {
     "data": {
      "text/html": [
       "\n",
       "        <iframe\n",
       "            width=\"100%\"\n",
       "            height=\"800\"\n",
       "            src=\"https://sarafael.jupyter.cscs.ch/hub/user-redirect/proxy/6007/#scalars\"\n",
       "            frameborder=\"0\"\n",
       "            allowfullscreen\n",
       "        ></iframe>\n",
       "        "
      ],
      "text/plain": [
       "<IPython.lib.display.IFrame at 0x2aaad07129d0>"
      ]
     },
     "metadata": {},
     "output_type": "display_data"
    }
   ],
   "source": [
    "%tensorboard --logdir=dense_logs"
   ]
  }
 ],
 "metadata": {
  "kernelspec": {
   "display_name": "tf-multigpu",
   "language": "python",
   "name": "tf-multigpu"
  },
  "language_info": {
   "codemirror_mode": {
    "name": "ipython",
    "version": 3
   },
   "file_extension": ".py",
   "mimetype": "text/x-python",
   "name": "python",
   "nbconvert_exporter": "python",
   "pygments_lexer": "ipython3",
   "version": "3.7.4"
  }
 },
 "nbformat": 4,
 "nbformat_minor": 4
}
