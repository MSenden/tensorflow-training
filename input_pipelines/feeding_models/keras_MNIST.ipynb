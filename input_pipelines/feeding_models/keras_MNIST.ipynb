{
 "cells": [
  {
   "cell_type": "markdown",
   "metadata": {},
   "source": [
    "# MNIST data classification: Keras and input pipeline\n",
    "\n",
    "This notebook shows how to use input pipelines with Keras."
   ]
  },
  {
   "cell_type": "code",
   "execution_count": 1,
   "metadata": {},
   "outputs": [],
   "source": [
    "import numpy as np\n",
    "import math\n",
    "import tensorflow as tf"
   ]
  },
  {
   "cell_type": "code",
   "execution_count": 2,
   "metadata": {},
   "outputs": [
    {
     "data": {
      "text/plain": [
       "'2.3.0'"
      ]
     },
     "execution_count": 2,
     "metadata": {},
     "output_type": "execute_result"
    }
   ],
   "source": [
    "tf.version.VERSION"
   ]
  },
  {
   "cell_type": "code",
   "execution_count": 4,
   "metadata": {},
   "outputs": [],
   "source": [
    "def decode(serialized_example):\n",
    "    \"\"\"Parses an image and label from the given `serialized_example`.\"\"\"\n",
    "    features = tf.io.parse_single_example(\n",
    "        serialized_example,\n",
    "        features={\n",
    "            'image_raw': tf.io.FixedLenFeature([], tf.string),\n",
    "            'label': tf.io.FixedLenFeature([], tf.int64),\n",
    "        })\n",
    "    label = tf.cast(features['label'], tf.int32)\n",
    "    image = tf.io.decode_raw(features['image_raw'], tf.uint8)\n",
    "    return image, label\n",
    "\n",
    "\n",
    "def normalize(image, label):\n",
    "    \"\"\"Convert `image` from [0, 255] -> [-0.5, 0.5] floats.\"\"\"\n",
    "    image = tf.cast(image, tf.float32) * (1. / 255) - 0.5\n",
    "    return image, label"
   ]
  },
  {
   "cell_type": "code",
   "execution_count": 5,
   "metadata": {},
   "outputs": [],
   "source": [
    "dataset = tf.data.TFRecordDataset('../tfrecords/train.tfrecords')\n",
    "dataset = dataset.map(decode)\n",
    "dataset = dataset.map(normalize)\n",
    "dataset = dataset.shuffle(6000)\n",
    "dataset = dataset.batch(256)\n",
    "dataset = dataset.repeat(5)"
   ]
  },
  {
   "cell_type": "code",
   "execution_count": 6,
   "metadata": {},
   "outputs": [],
   "source": [
    "test_set = tf.data.TFRecordDataset('../tfrecords/test.tfrecords')\n",
    "test_set = test_set.map(decode)\n",
    "test_set = test_set.map(normalize)\n",
    "test_set = test_set.batch(256)"
   ]
  },
  {
   "cell_type": "code",
   "execution_count": 7,
   "metadata": {},
   "outputs": [],
   "source": [
    "model = tf.keras.Sequential([\n",
    "    tf.keras.layers.Flatten(input_shape=(784,)),\n",
    "    tf.keras.layers.Dense(128, activation=tf.nn.relu),\n",
    "    tf.keras.layers.Dense(10, activation=tf.nn.softmax)\n",
    "])"
   ]
  },
  {
   "cell_type": "code",
   "execution_count": 8,
   "metadata": {},
   "outputs": [],
   "source": [
    "opt = tf.keras.optimizers.Adam(0.001)"
   ]
  },
  {
   "cell_type": "code",
   "execution_count": 9,
   "metadata": {},
   "outputs": [],
   "source": [
    "model.compile(optimizer=opt,\n",
    "              loss='sparse_categorical_crossentropy',\n",
    "              metrics=['accuracy'])"
   ]
  },
  {
   "cell_type": "code",
   "execution_count": 10,
   "metadata": {},
   "outputs": [
    {
     "name": "stdout",
     "output_type": "stream",
     "text": [
      "Epoch 1/5\n",
      "1175/1175 [==============================] - 16s 13ms/step - loss: 0.2689 - accuracy: 0.9227 - val_loss: 0.1386 - val_accuracy: 0.9591\n",
      "Epoch 2/5\n",
      "1175/1175 [==============================] - 15s 12ms/step - loss: 0.1039 - accuracy: 0.9700 - val_loss: 0.0941 - val_accuracy: 0.9717\n",
      "Epoch 3/5\n",
      "1175/1175 [==============================] - 14s 12ms/step - loss: 0.0651 - accuracy: 0.9808 - val_loss: 0.0830 - val_accuracy: 0.9737\n",
      "Epoch 4/5\n",
      "1175/1175 [==============================] - 15s 13ms/step - loss: 0.0448 - accuracy: 0.9869 - val_loss: 0.0764 - val_accuracy: 0.9760\n",
      "Epoch 5/5\n",
      "1175/1175 [==============================] - 14s 12ms/step - loss: 0.0317 - accuracy: 0.9908 - val_loss: 0.0758 - val_accuracy: 0.9759\n"
     ]
    }
   ],
   "source": [
    "fit = model.fit(dataset,\n",
    "                epochs=5,\n",
    "                validation_data=test_set)"
   ]
  }
 ],
 "metadata": {
  "kernelspec": {
   "display_name": "tf-multigpu",
   "language": "python",
   "name": "tf-multigpu"
  },
  "language_info": {
   "codemirror_mode": {
    "name": "ipython",
    "version": 3
   },
   "file_extension": ".py",
   "mimetype": "text/x-python",
   "name": "python",
   "nbconvert_exporter": "python",
   "pygments_lexer": "ipython3",
   "version": "3.7.4"
  }
 },
 "nbformat": 4,
 "nbformat_minor": 4
}
