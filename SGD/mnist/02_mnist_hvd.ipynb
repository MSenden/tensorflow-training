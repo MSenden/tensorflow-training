{
 "cells": [
  {
   "cell_type": "markdown",
   "metadata": {},
   "source": [
    "# Distributed training of a CNN on MNIST with Horovod"
   ]
  },
  {
   "cell_type": "code",
   "execution_count": 1,
   "metadata": {},
   "outputs": [],
   "source": [
    "import ipcmagic"
   ]
  },
  {
   "cell_type": "code",
   "execution_count": 2,
   "metadata": {},
   "outputs": [
    {
     "name": "stdout",
     "output_type": "stream",
     "text": [
      "IPCluster is ready! (6 seconds)\n"
     ]
    }
   ],
   "source": [
    "%ipcluster start -n 2 --mpi"
   ]
  },
  {
   "cell_type": "code",
   "execution_count": 3,
   "metadata": {},
   "outputs": [],
   "source": [
    "%%px\n",
    "import numpy as np\n",
    "import tensorflow as tf\n",
    "import horovod.tensorflow.keras as hvd"
   ]
  },
  {
   "cell_type": "code",
   "execution_count": 4,
   "metadata": {},
   "outputs": [],
   "source": [
    "%%px\n",
    "hvd.init()\n",
    "\n",
    "model = tf.keras.Sequential([\n",
    "    tf.keras.Input(shape=(28, 28)),\n",
    "    tf.keras.layers.Reshape(target_shape=(28, 28, 1)), # Convolutional layers expect a channel dimension\n",
    "    tf.keras.layers.Conv2D(32, 3, padding='same', activation='relu'),\n",
    "    tf.keras.layers.MaxPooling2D(pool_size=(2, 2)),\n",
    "    tf.keras.layers.Conv2D(128, 3, padding='same', activation='relu'),\n",
    "    tf.keras.layers.MaxPooling2D(pool_size=(2, 2)),\n",
    "    tf.keras.layers.Flatten(),\n",
    "    tf.keras.layers.Dense(10),\n",
    "])\n",
    "\n",
    "optimizer = tf.keras.optimizers.SGD(learning_rate=1e-3, momentum=0.9)\n",
    "optimizer = hvd.DistributedOptimizer(optimizer)\n",
    "\n",
    "model.compile(\n",
    "    loss=tf.keras.losses.SparseCategoricalCrossentropy(from_logits=True),\n",
    "    optimizer=optimizer,\n",
    "    metrics=['accuracy'])\n",
    "\n",
    "hvd_callback = hvd.callbacks.BroadcastGlobalVariablesCallback(0)"
   ]
  },
  {
   "cell_type": "code",
   "execution_count": 5,
   "metadata": {},
   "outputs": [],
   "source": [
    "%%px\n",
    "(x_train, y_train), (x_test, y_test) = tf.keras.datasets.mnist.load_data()\n",
    "\n",
    "train_size = len(y_train)\n",
    "valid_size = len(y_test)\n",
    "\n",
    "# The `x` arrays are in uint8 and have values in the range [0, 255].\n",
    "# We need to convert them to float32 with values in the range [0, 1]\n",
    "train_dataset = (tf.data.Dataset\n",
    "                   .from_tensor_slices((x_train / np.float32(255), y_train.astype(np.int32)))\n",
    "                   .shuffle(train_size // hvd.size())\n",
    "                   .batch(128, drop_remainder=True)\n",
    "                   .shard(hvd.size(), hvd.rank())\n",
    "                )\n",
    "\n",
    "valid_dataset = (tf.data.Dataset\n",
    "                   .from_tensor_slices((x_test / np.float32(255), y_test.astype(np.int32)))\n",
    "                   .batch(128, drop_remainder=False))"
   ]
  },
  {
   "cell_type": "code",
   "execution_count": 6,
   "metadata": {},
   "outputs": [
    {
     "name": "stdout",
     "output_type": "stream",
     "text": [
      "[stdout:0] \n",
      "Epoch 1/5\n",
      "234/234 [==============================] - 2s 6ms/step - loss: 1.9171 - accuracy: 0.5283 - val_loss: 0.9354 - val_accuracy: 0.7995\n",
      "Epoch 2/5\n",
      "234/234 [==============================] - 2s 7ms/step - loss: 0.5583 - accuracy: 0.8497 - val_loss: 0.3874 - val_accuracy: 0.8926\n",
      "Epoch 3/5\n",
      "234/234 [==============================] - 3s 11ms/step - loss: 0.3661 - accuracy: 0.8952 - val_loss: 0.3098 - val_accuracy: 0.9118\n",
      "Epoch 4/5\n",
      "234/234 [==============================] - 3s 11ms/step - loss: 0.3043 - accuracy: 0.9119 - val_loss: 0.2703 - val_accuracy: 0.9218\n",
      "Epoch 5/5\n",
      "234/234 [==============================] - 3s 11ms/step - loss: 0.2752 - accuracy: 0.9207 - val_loss: 0.2431 - val_accuracy: 0.9322\n",
      "[stdout:1] \n",
      "Epoch 1/5\n",
      "234/234 [==============================] - 2s 6ms/step - loss: 1.9154 - accuracy: 0.5308 - val_loss: 0.9354 - val_accuracy: 0.7995\n",
      "Epoch 2/5\n",
      "234/234 [==============================] - 2s 7ms/step - loss: 0.5606 - accuracy: 0.8492 - val_loss: 0.3874 - val_accuracy: 0.8926\n",
      "Epoch 3/5\n",
      "234/234 [==============================] - 3s 11ms/step - loss: 0.3604 - accuracy: 0.8961 - val_loss: 0.3098 - val_accuracy: 0.9118\n",
      "Epoch 4/5\n",
      "234/234 [==============================] - 3s 11ms/step - loss: 0.3084 - accuracy: 0.9097 - val_loss: 0.2703 - val_accuracy: 0.9218\n",
      "Epoch 5/5\n",
      "234/234 [==============================] - 3s 11ms/step - loss: 0.2668 - accuracy: 0.9230 - val_loss: 0.2431 - val_accuracy: 0.9322\n"
     ]
    }
   ],
   "source": [
    "%%px\n",
    "fit = model.fit(train_dataset,\n",
    "                epochs=5,\n",
    "                validation_data=valid_dataset,\n",
    "                callbacks=[hvd_callback])"
   ]
  },
  {
   "cell_type": "code",
   "execution_count": 7,
   "metadata": {},
   "outputs": [],
   "source": [
    "%ipcluster stop"
   ]
  }
 ],
 "metadata": {
  "kernelspec": {
   "display_name": "tf-multigpu",
   "language": "python",
   "name": "tf-multigpu"
  },
  "language_info": {
   "codemirror_mode": {
    "name": "ipython",
    "version": 3
   },
   "file_extension": ".py",
   "mimetype": "text/x-python",
   "name": "python",
   "nbconvert_exporter": "python",
   "pygments_lexer": "ipython3",
   "version": "3.7.4"
  }
 },
 "nbformat": 4,
 "nbformat_minor": 4
}
